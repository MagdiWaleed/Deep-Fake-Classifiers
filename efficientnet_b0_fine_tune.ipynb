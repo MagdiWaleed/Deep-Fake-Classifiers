{
  "cells": [
    {
      "cell_type": "code",
      "execution_count": 1,
      "metadata": {
        "execution": {
          "iopub.execute_input": "2024-12-29T00:27:24.130165Z",
          "iopub.status.busy": "2024-12-29T00:27:24.129868Z",
          "iopub.status.idle": "2024-12-29T00:27:24.134887Z",
          "shell.execute_reply": "2024-12-29T00:27:24.134001Z",
          "shell.execute_reply.started": "2024-12-29T00:27:24.130142Z"
        },
        "id": "JPpn4PyW625u",
        "trusted": true
      },
      "outputs": [],
      "source": [
        "import numpy as np\n",
        "import pandas as pd\n",
        "import os\n",
        "import torch\n",
        "from torch import nn\n",
        "import torch.nn.functional as F\n",
        "import matplotlib.pyplot as plt\n",
        "from tqdm import tqdm\n",
        "import shutil\n",
        "from copy import deepcopy\n",
        "from sklearn.model_selection import KFold\n",
        "from torch.utils.data import Subset,Dataset,DataLoader\n",
        "import pandas as pd\n",
        "import cv2\n",
        "from torchvision import models\n",
        "from torchvision.models import Inception_V3_Weights\n",
        "import kagglehub\n",
        "\n",
        "\n",
        "from sklearn.metrics import classification_report, precision_score, recall_score, f1_score\n",
        "\n"
      ]
    },
    {
      "cell_type": "code",
      "execution_count": 2,
      "metadata": {
        "execution": {
          "iopub.execute_input": "2024-12-29T00:27:24.147107Z",
          "iopub.status.busy": "2024-12-29T00:27:24.146882Z",
          "iopub.status.idle": "2024-12-29T00:27:24.151129Z",
          "shell.execute_reply": "2024-12-29T00:27:24.150387Z",
          "shell.execute_reply.started": "2024-12-29T00:27:24.147087Z"
        },
        "id": "tl7u0MwUB0WK",
        "trusted": true
      },
      "outputs": [],
      "source": [
        "number_videos = 200\n",
        "number_frames = 5\n",
        "batch_size = 0\n",
        "video_size = 256"
      ]
    },
    {
      "cell_type": "code",
      "execution_count": 3,
      "metadata": {
        "colab": {
          "base_uri": "https://localhost:8080/"
        },
        "execution": {
          "iopub.execute_input": "2024-12-29T00:27:24.165937Z",
          "iopub.status.busy": "2024-12-29T00:27:24.165725Z",
          "iopub.status.idle": "2024-12-29T00:27:24.170283Z",
          "shell.execute_reply": "2024-12-29T00:27:24.169465Z",
          "shell.execute_reply.started": "2024-12-29T00:27:24.165918Z"
        },
        "id": "rrsrDcqa625v",
        "outputId": "c3eb3e0e-63ca-4333-9532-040d75dfc74a",
        "trusted": true
      },
      "outputs": [
        {
          "name": "stdout",
          "output_type": "stream",
          "text": [
            "Warning: Looks like you're using an outdated `kagglehub` version (installed: 0.3.5), please consider upgrading to the latest version (0.3.6).\n",
            "Downloading from https://www.kaggle.com/api/v1/datasets/download/hhalalwi/deepfake-face-mask-dataset-dffmd?dataset_version_number=1...\n"
          ]
        },
        {
          "name": "stderr",
          "output_type": "stream",
          "text": [
            "100%|██████████| 9.29G/9.29G [02:14<00:00, 74.3MB/s]"
          ]
        },
        {
          "name": "stdout",
          "output_type": "stream",
          "text": [
            "Extracting files...\n"
          ]
        },
        {
          "name": "stderr",
          "output_type": "stream",
          "text": [
            "\n"
          ]
        },
        {
          "name": "stdout",
          "output_type": "stream",
          "text": [
            "Path to dataset files: /root/.cache/kagglehub/datasets/hhalalwi/deepfake-face-mask-dataset-dffmd/versions/1\n"
          ]
        }
      ],
      "source": [
        "path = kagglehub.dataset_download(\"hhalalwi/deepfake-face-mask-dataset-dffmd\")\n",
        "# path = \"/kaggle/input/deepfake-face-mask-dataset-dffmd\"\n",
        "print(\"Path to dataset files:\", path)"
      ]
    },
    {
      "cell_type": "code",
      "execution_count": 4,
      "metadata": {
        "colab": {
          "base_uri": "https://localhost:8080/"
        },
        "execution": {
          "iopub.execute_input": "2024-12-29T00:27:24.180263Z",
          "iopub.status.busy": "2024-12-29T00:27:24.180049Z",
          "iopub.status.idle": "2024-12-29T00:27:24.184861Z",
          "shell.execute_reply": "2024-12-29T00:27:24.183960Z",
          "shell.execute_reply.started": "2024-12-29T00:27:24.180245Z"
        },
        "id": "vppTkLk4M5TB",
        "outputId": "aed7d26e-5cd3-4461-d677-9e7186aecb1f",
        "trusted": true
      },
      "outputs": [
        {
          "name": "stdout",
          "output_type": "stream",
          "text": [
            "GPU\n"
          ]
        }
      ],
      "source": [
        "if torch.cuda.is_available():\n",
        "  device = torch.device(\"cuda:0\")\n",
        "  print(\"GPU\")\n",
        "else:\n",
        "  device = torch.device(\"cpu\")\n",
        "  print(\"CPU\")"
      ]
    },
    {
      "cell_type": "code",
      "execution_count": 5,
      "metadata": {
        "colab": {
          "base_uri": "https://localhost:8080/"
        },
        "execution": {
          "iopub.execute_input": "2024-12-29T00:27:24.186141Z",
          "iopub.status.busy": "2024-12-29T00:27:24.185893Z",
          "iopub.status.idle": "2024-12-29T00:27:24.214516Z",
          "shell.execute_reply": "2024-12-29T00:27:24.213796Z",
          "shell.execute_reply.started": "2024-12-29T00:27:24.186111Z"
        },
        "id": "2slSA0LH7Obt",
        "outputId": "bd6596a1-e47d-4ac9-9fd9-7a2d1603d87a",
        "trusted": true
      },
      "outputs": [
        {
          "data": {
            "text/plain": [
              "1836"
            ]
          },
          "execution_count": 5,
          "metadata": {},
          "output_type": "execute_result"
        }
      ],
      "source": [
        "data = []\n",
        "\n",
        "for folder in os.listdir(path):\n",
        "  if folder == \"Fake\" or folder == \"Real\":\n",
        "    for file in os.listdir(os.path.join(path,folder,folder)):\n",
        "      if folder == \"Fake\":\n",
        "        data.append([os.path.join(path,folder,folder,file),0])\n",
        "      else:\n",
        "        data.append([os.path.join(path,folder,folder,file),1])\n",
        "data = np.array(data)\n",
        "np.random.shuffle(data)\n",
        "len(data)"
      ]
    },
    {
      "cell_type": "code",
      "execution_count": 6,
      "metadata": {
        "execution": {
          "iopub.execute_input": "2024-12-29T00:27:24.216086Z",
          "iopub.status.busy": "2024-12-29T00:27:24.215805Z",
          "iopub.status.idle": "2024-12-29T00:27:24.223147Z",
          "shell.execute_reply": "2024-12-29T00:27:24.222184Z",
          "shell.execute_reply.started": "2024-12-29T00:27:24.216066Z"
        },
        "id": "46XsV3Tc9eXL",
        "trusted": true
      },
      "outputs": [],
      "source": [
        "class VideoDataset(Dataset):\n",
        "    def __init__(self,data,number_frames):\n",
        "        self.data = []\n",
        "        self.labels = []\n",
        "        for i in data:\n",
        "            self.data.append(i[0])\n",
        "            self.labels.append(i[1])\n",
        "        self.number_frames = number_frames\n",
        "    def __len__(self):\n",
        "        return len(self.data)\n",
        "    def __getitem__(self, idx):\n",
        "        frames = self.get_frames(self.data[idx])\n",
        "        return np.array(frames),int(self.labels[idx])\n",
        "\n",
        "    def get_frames(self, video_path):\n",
        "        cap = cv2.VideoCapture(video_path)\n",
        "\n",
        "        total_frame_count = int(cap.get(cv2.CAP_PROP_FRAME_COUNT))\n",
        "        indices = np.linspace(0, total_frame_count - 1, self.number_frames, dtype=int)\n",
        "        frames = []\n",
        "\n",
        "        for index in indices:\n",
        "            cap.set(cv2.CAP_PROP_POS_FRAMES, index)\n",
        "            ret, frame = cap.read()\n",
        "\n",
        "            while not ret and index < total_frame_count - 1:\n",
        "                index += 1\n",
        "                cap.set(cv2.CAP_PROP_POS_FRAMES, index)\n",
        "                ret, frame = cap.read()\n",
        "\n",
        "            if not ret:\n",
        "                break\n",
        "\n",
        "            frame = cv2.resize(frame, (video_size, video_size))\n",
        "            frame = cv2.cvtColor(frame, cv2.COLOR_BGR2RGB)\n",
        "            frames.append(frame)\n",
        "\n",
        "        cap.release()\n",
        "\n",
        "        if frames:\n",
        "            while len(frames) < self.number_frames:\n",
        "                frames.append(frames[-1].copy())\n",
        "        else:\n",
        "            raise ValueError(\"No frames were successfully extracted from the video.\")\n",
        "\n",
        "        return frames\n"
      ]
    },
    {
      "cell_type": "code",
      "execution_count": 7,
      "metadata": {
        "execution": {
          "iopub.execute_input": "2024-12-29T00:27:24.224680Z",
          "iopub.status.busy": "2024-12-29T00:27:24.224393Z",
          "iopub.status.idle": "2024-12-29T00:27:24.240467Z",
          "shell.execute_reply": "2024-12-29T00:27:24.239599Z",
          "shell.execute_reply.started": "2024-12-29T00:27:24.224651Z"
        },
        "id": "-hUzBKftG1KH",
        "trusted": true
      },
      "outputs": [],
      "source": [
        "def get_data(data,number_frames,number_videos=0):\n",
        "    if number_videos == 0:\n",
        "      vidoes_dataset = VideoDataset(data,number_frames)\n",
        "      return vidoes_dataset\n",
        "    else:\n",
        "      data = data[:number_videos]\n",
        "      vidoes_dataset = VideoDataset(data,number_frames)\n",
        "      data_frames = []\n",
        "      labels = []\n",
        "\n",
        "      for i in tqdm(range(len(vidoes_dataset))):\n",
        "        frames,label = vidoes_dataset[i]\n",
        "        data_frames.append(frames)\n",
        "        labels.append(int(label))\n",
        "\n",
        "      data_frames = np.array(data_frames)\n",
        "      print(data_frames.shape)\n",
        "      return (data_frames,labels)\n"
      ]
    },
    {
      "cell_type": "code",
      "execution_count": 8,
      "metadata": {
        "colab": {
          "base_uri": "https://localhost:8080/"
        },
        "execution": {
          "iopub.execute_input": "2024-12-29T00:27:24.241471Z",
          "iopub.status.busy": "2024-12-29T00:27:24.241208Z"
        },
        "id": "q9efBg_-3N50",
        "outputId": "543a7122-3bd5-424e-a170-f5b9fa003a35",
        "trusted": true
      },
      "outputs": [
        {
          "name": "stderr",
          "output_type": "stream",
          "text": [
            "100%|██████████| 200/200 [03:41<00:00,  1.11s/it]\n"
          ]
        },
        {
          "name": "stdout",
          "output_type": "stream",
          "text": [
            "(200, 5, 256, 256, 3)\n"
          ]
        }
      ],
      "source": [
        "dataset = get_data(data,number_frames,number_videos)"
      ]
    },
    {
      "cell_type": "code",
      "execution_count": 9,
      "metadata": {
        "colab": {
          "base_uri": "https://localhost:8080/"
        },
        "id": "y4tq_NjaH46L",
        "outputId": "a3f0985c-4118-4e20-9bec-66c1aac95430",
        "trusted": true
      },
      "outputs": [
        {
          "name": "stderr",
          "output_type": "stream",
          "text": [
            "Downloading: \"https://download.pytorch.org/models/efficientnet_b0_rwightman-7f5810bc.pth\" to /root/.cache/torch/hub/checkpoints/efficientnet_b0_rwightman-7f5810bc.pth\n",
            "100%|██████████| 20.5M/20.5M [00:00<00:00, 85.8MB/s]\n"
          ]
        },
        {
          "name": "stdout",
          "output_type": "stream",
          "text": [
            "213\n"
          ]
        }
      ],
      "source": [
        "# image = torch.tensor(np.random.normal(5,10,size=(40,3,224,224))).float()\n",
        "# print(image.shape)\n",
        "resnet50 = models.efficientnet_b0(weights=models.EfficientNet_B0_Weights.IMAGENET1K_V1)\n",
        "model = nn.Sequential(\n",
        "    resnet50.features\n",
        ")\n",
        "\n",
        "# predicted = model(image)\n",
        "# print(predicted.size())\n",
        "# list(model.children())[-2:]\n",
        "# list(model.named_parameters())\n",
        "print(len(list(resnet50.parameters())))"
      ]
    },
    {
      "cell_type": "code",
      "execution_count": 10,
      "metadata": {
        "id": "5D7JycEc625y",
        "trusted": true
      },
      "outputs": [],
      "source": [
        "class CNN(nn.Module):\n",
        "    def __init__(self):\n",
        "        super().__init__()\n",
        "\n",
        "        efficientnet_b0 = models.efficientnet_b0(weights=models.EfficientNet_B0_Weights.IMAGENET1K_V1)\n",
        "\n",
        "        self.model = nn.Sequential(\n",
        "            efficientnet_b0.features\n",
        "        )\n",
        "\n",
        "        t=0\n",
        "        for layer in efficientnet_b0.parameters():\n",
        "            t+=1\n",
        "\n",
        "        for i,layer in enumerate(efficientnet_b0.parameters()):\n",
        "            layer.requires_grad = False\n",
        "            if i== (t-4) or i== (t-5):\n",
        "              layer.requires_grad = True\n",
        "        self.maxPool = nn.MaxPool2d(7)\n",
        "        self.lstm = nn.LSTM(1280, 512,2 , batch_first=True)\n",
        "\n",
        "\n",
        "        self.linear1 = nn.Linear(512,120)\n",
        "        self.linear2 = nn.Linear(120,84)\n",
        "        self.linear3 = nn.Linear(84,1)\n",
        "\n",
        "    def forward(self,x):\n",
        "         batch_size, num_frames, channels, height, width = x.size()\n",
        "         x = x.view(batch_size * num_frames, channels, height, width)\n",
        "         # print(f\"Shape of x before passing to model: {x.shape}\")\n",
        "         x = self.model(x)\n",
        "         x = self.maxPool(x)\n",
        "         # print(x.size())\n",
        "         x = x.reshape(batch_size, -1)\n",
        "         x = x.reshape(batch_size,num_frames,-1)\n",
        "\n",
        "\n",
        "         lstm_out, _= self.lstm(x)\n",
        "\n",
        "\n",
        "         x = lstm_out[:,-1,:]\n",
        "\n",
        "\n",
        "         x = x.reshape(batch_size, -1)\n",
        "\n",
        "         x = F.relu(self.linear1(x))\n",
        "\n",
        "         x = F.relu(self.linear2(x))\n",
        "\n",
        "         x = F.sigmoid(self.linear3(x))\n",
        "\n",
        "\n",
        "         return x"
      ]
    },
    {
      "cell_type": "code",
      "execution_count": 11,
      "metadata": {
        "id": "VnkM9cZc625z",
        "trusted": true
      },
      "outputs": [],
      "source": [
        "def train(data,epoch ,model,optimizer,loss_fun):\n",
        "\n",
        "    total_loss = []\n",
        "    model.train()\n",
        "    for ep in tqdm(range(epoch)):\n",
        "      if number_videos !=0:\n",
        "        optimizer.zero_grad()\n",
        "        x = torch.tensor(data[0]).to(device)\n",
        "\n",
        "        x = x.permute(0,1, 4, 2, 3) # batch_size, num_frames, channels, height, width\n",
        "        x = x.float()\n",
        "\n",
        "        target = torch.tensor(data[1]).to(device)\n",
        "        target = target.float()\n",
        "        target = target.unsqueeze(-1)\n",
        "        outputs = model(x)\n",
        "        loss = loss_fun(outputs,target)\n",
        "        loss.backward()\n",
        "        optimizer.step()\n",
        "\n",
        "      else:\n",
        "        for i, (x, target) in enumerate(data):\n",
        "            optimizer.zero_grad()\n",
        "\n",
        "            target = torch.tensor(target)\n",
        "            target = target.float()\n",
        "            x = torch.tensor(x)\n",
        "\n",
        "            x = x.permute(0,1, 4, 2, 3) # batch_size, num_frames, channels, height, width\n",
        "            x = x.float()\n",
        "\n",
        "            target = target.to(device)\n",
        "            x= x.to(device)\n",
        "\n",
        "            outputs = model(x)\n",
        "\n",
        "            loss = loss_fun(outputs,target)\n",
        "            loss.backward()\n",
        "            optimizer.step()\n",
        "      total_loss.append(float(loss))\n",
        "\n",
        "\n",
        "    return total_loss"
      ]
    },
    {
      "cell_type": "code",
      "execution_count": 12,
      "metadata": {
        "id": "XcM6KSsBJ8dD",
        "trusted": true
      },
      "outputs": [],
      "source": [
        "class GreyWolfOA:\n",
        "    def __init__(self, n=5,i=100):\n",
        "        self.population_size = n\n",
        "        self.iterations = i\n",
        "    def fittness(self, population,is_fittness_calculated,previous_fittness_values):\n",
        "        population = np.array(population)\n",
        "        values = []\n",
        "        i=0\n",
        "        print(\"fittness: \")\n",
        "        for index,sample in enumerate(population):\n",
        "          if is_fittness_calculated[index]:\n",
        "            values.append(previous_fittness_values[index])\n",
        "            continue\n",
        "          elif population[index]<0:\n",
        "            values.append(10000000)\n",
        "            continue\n",
        "          else:\n",
        "            print(\"lr: \",population[index])\n",
        "            model = CNN().to(self.device)\n",
        "            optimizer = torch.optim.Adam(model.parameters(),lr= sample)\n",
        "            loss_fun = nn.BCELoss()\n",
        "            history = train(self.data,10,model,optimizer,loss_fun)\n",
        "            # print(np.array(history[\"loss\"][-5:]).mean())\n",
        "            values.append(np.array(history[-5:]).mean())\n",
        "            i+=1\n",
        "            is_fittness_calculated[index] = True\n",
        "        return values , is_fittness_calculated\n",
        "\n",
        "    def calc_singleX(self,a,sample_i, wolf):#wolf = (alpha,beta,gamma)\n",
        "        random1,random2 = np.random.uniform(0.00001,0.001),np.random.uniform(0.00001,0.001)\n",
        "        A = (2*a* random1) - a\n",
        "        B = 2* random2\n",
        "        C = np.abs(B* wolf - sample_i)\n",
        "        x = wolf - A*C\n",
        "        return x\n",
        "\n",
        "    def fit(self,data,device):\n",
        "        self.data = data\n",
        "        self.device = device\n",
        "\n",
        "        population = np.random.uniform(0.00001,0.001,size=self.population_size)\n",
        "        is_fittness_calculated= [False for _ in range(self.population_size)]\n",
        "        history = []\n",
        "        previous_fittness_values = []\n",
        "        for i in range(self.iterations):\n",
        "\n",
        "            fitness_values,is_fittness_calculated = self.fittness(population,is_fittness_calculated,previous_fittness_values)\n",
        "            indecies = np.argsort(fitness_values)\n",
        "\n",
        "            alpha = population[indecies[0]]\n",
        "            beta = population[indecies[1]]\n",
        "            gamma = population[indecies[2]]\n",
        "            a = 2 *(1-(i /self.iterations))**30\n",
        "\n",
        "            for sample in range(self.population_size):\n",
        "                x1 = self.calc_singleX(a,sample,alpha)\n",
        "                x2 = self.calc_singleX(a,sample,beta)\n",
        "                x3 = self.calc_singleX(a,sample,gamma)\n",
        "\n",
        "\n",
        "                new_x = (x1+x2+x3)/3\n",
        "                new_fittness,_= self.fittness([new_x],[False],[0])\n",
        "                if fitness_values[sample] > new_fittness[0]:\n",
        "                    population[sample] = new_x\n",
        "                    fitness_values[sample]= new_fittness[0]\n",
        "                    is_fittness_calculated[sample]=True\n",
        "\n",
        "            previous_fittness_values= deepcopy(fitness_values)\n",
        "\n",
        "            indecies = np.argsort(fitness_values)\n",
        "            history.append([population[indecies[0]],fitness_values[indecies[0]]])\n",
        "            print(\"-----------alpha is: \",population[indecies[0]],\"loss: \",fitness_values[indecies[0]])\n",
        "            print('-----------------------------------------------------------')\n",
        "            print(f'Iteration {i+1}population: {population}')\n",
        "        return population[indecies[0]],history"
      ]
    },
    {
      "cell_type": "code",
      "execution_count": 13,
      "metadata": {
        "id": "jnrEGW_B625z",
        "trusted": true
      },
      "outputs": [],
      "source": [
        "# greywolf = GreyWolfOA(5,10)\n",
        "# alpha , history = greywolf.fit(dataset,device)"
      ]
    },
    {
      "cell_type": "code",
      "execution_count": 14,
      "metadata": {
        "id": "mEhw26aMzra5",
        "trusted": true
      },
      "outputs": [],
      "source": [
        "def evaluate_model(model, loss_fun,data_loader):\n",
        "  model.eval()\n",
        "  data_loss = 0.0\n",
        "  correct = 0\n",
        "  total = 0\n",
        "  with torch.no_grad():\n",
        "    if number_videos !=0:\n",
        "        train,labels = data_loader\n",
        "        x, y = torch.tensor(train).to(device), torch.tensor(labels).to(device)\n",
        "        x = x.permute(0,1, 4, 2, 3) # batch_size, num_frames, channels, height, width\n",
        "        x = x.float()\n",
        "\n",
        "        outputs = model(x)\n",
        "        y = y.float()\n",
        "        y = y.unsqueeze(-1)\n",
        "\n",
        "        loss = loss_fun(outputs, y)\n",
        "        data_loss += loss.item()\n",
        "        for t in range(len(outputs)):\n",
        "          if outputs[t] >= 0.5 and y[t]==1:\n",
        "            correct+= 1\n",
        "            total+=1\n",
        "          elif outputs[t] < 0.5 and y[t]==0:\n",
        "            correct += 1\n",
        "            total+=1\n",
        "          else:\n",
        "            total+=1\n",
        "    else:\n",
        "      for i,(x, y) in enumerate(data_loader):\n",
        "          x, y = x.clone().detach().to(device), y.clone().detach().to(device)\n",
        "          x = x.permute(0,1, 4, 2, 3) # batch_size, num_frames, channels, height, width\n",
        "          x = x.float()\n",
        "          outputs = model(x)\n",
        "          y = y.float()\n",
        "          y = y.unsqueeze(-1)\n",
        "\n",
        "          loss = loss_fun(outputs, y)\n",
        "          data_loss += loss.item()\n",
        "          for t in range(len(outputs)):\n",
        "            if outputs[t] >= 0.5 and y[t]==1:\n",
        "              correct+= 1\n",
        "              total+=1\n",
        "            elif outputs[t] < 0.5 and y[t]==0:\n",
        "              correct += 1\n",
        "              total+=1\n",
        "            else:\n",
        "              total+=1\n",
        "          predicted = np.array(outputs.cpu().numpy()>=0.5).astype(int)\n",
        "          correct += (predicted == y.cpu().numpy()).sum().item()\n",
        "          total += y.size(0)\n",
        "\n",
        "\n",
        "  data_loss /= len(data_loader)\n",
        "  val_accuracy = correct / total\n",
        "  return data_loss, val_accuracy\n",
        "\n",
        "def train_cross_validation(data,epoch):\n",
        "\n",
        "    k_folds = 3\n",
        "    kf = KFold(n_splits=k_folds, shuffle=True, random_state=42)\n",
        "\n",
        "    fold_results=[]\n",
        "    models_details=[]\n",
        "\n",
        "    if number_videos !=0:\n",
        "      splited_data = data[0]\n",
        "    else:\n",
        "      splited_data = data\n",
        "\n",
        "    for fold_number,(train_idx,val_idx) in enumerate(kf.split(splited_data)):\n",
        "\n",
        "      if number_videos != 0:\n",
        "        train_videos = np.array(data[0])[train_idx]\n",
        "        train_labels = np.array(data[1])[train_idx]\n",
        "\n",
        "        val_videos = np.array(data[0])[val_idx]\n",
        "        val_labels = np.array(data[1])[val_idx]\n",
        "\n",
        "      else:\n",
        "        train_subset = Subset(splited_data, train_idx)\n",
        "        val_subset = Subset(splited_data, val_idx)\n",
        "\n",
        "        train_loader = DataLoader(train_subset, batch_size=batch_size, shuffle=True)\n",
        "        val_loader = DataLoader(val_subset, batch_size=batch_size, shuffle=True)\n",
        "\n",
        "      model = CNN().to(device)\n",
        "      optimizer = torch.optim.Adam(model.parameters(),lr=0.00275933131073064     )\n",
        "      loss_fun = nn.BCELoss()\n",
        "\n",
        "      print(f\"fold {fold_number+1}/3: ----------------------------- \")\n",
        "      total_loss = []\n",
        "      model.train()\n",
        "      # for ep in range(epoch):\n",
        "      if number_videos !=0:\n",
        "        for ep in range(epoch):\n",
        "          optimizer.zero_grad()\n",
        "          x = torch.tensor(train_videos).to(device)\n",
        "\n",
        "          x = x.permute(0,1, 4, 2, 3) # batch_size, num_frames, channels, height, width\n",
        "          x = x.float()\n",
        "\n",
        "          target = torch.tensor(train_labels).to(device)\n",
        "          target = target.float()\n",
        "          target = target.unsqueeze(-1)\n",
        "          outputs = model(x)\n",
        "          loss = loss_fun(outputs,target)\n",
        "          loss.backward()\n",
        "          optimizer.step()\n",
        "          print(f\"\\rEpoch {ep+1}, loss: {loss.item():.8f}\",end=\"\")\n",
        "          total_loss.append(float(loss))\n",
        "\n",
        "      else:\n",
        "          for i, (x, target) in enumerate(train_loader):\n",
        "          # target = target.clone().detach().requires_grad_(True)\n",
        "              target = target.clone().detach()\n",
        "              target = target.float()\n",
        "\n",
        "              x = x.permute(0,1, 4, 2, 3) # batch_size, num_frames, channels, height, width\n",
        "              x = x.float()\n",
        "              target = target.to(device).unsqueeze(-1)\n",
        "              x= x.to(device)\n",
        "              for ep in range(epoch):\n",
        "                  optimizer.zero_grad()\n",
        "\n",
        "\n",
        "                  outputs = model(x)\n",
        "\n",
        "                  loss = loss_fun(outputs,target)\n",
        "                  loss.backward()\n",
        "                  optimizer.step()\n",
        "                  print(f\"\\rEpoch {ep+1}, loss: {loss.item():.8f}, [{i}/{len(train_loader)}]\",end=\"\")\n",
        "                  total_loss.append(float(loss))\n",
        "\n",
        "\n",
        "      if number_videos != 0:\n",
        "        loss,accuracy = evaluate_model(model,loss_fun,(val_videos,val_labels))\n",
        "        y_true = val_labels\n",
        "        y_predict = predict(model,val_videos)\n",
        "      else:\n",
        "        # loss,accuracy = evaluate_model(model,loss_fun,val_loader)\n",
        "        y_true,y_predict = predict(model,val_loader)\n",
        "      models_details.append(\n",
        "      {\n",
        "      \"loss\":total_loss,\n",
        "      # \"accuracy\":accuracy,\n",
        "      #  \"precision\":precision_score(y_true,y_predict),\n",
        "      # \"recall\":recall_score(y_true,y_predict),\n",
        "      # \"f1\":f1_score(y_true,y_predict),\n",
        "      \"classification\": classification_report(y_true,y_predict,zero_division=0)\n",
        "      }\n",
        "      )\n",
        "      print(classification_report(y_true,y_predict,zero_division=0))\n",
        "      print()\n",
        "      print(f\"Fold {fold_number + 1}, loss: {float(loss)}\")\n",
        "      print(\"-----------------------------------------------------------------------------------------------------\")\n",
        "      # fold_results.append((val_loss, accuracy))\n",
        "      # if fold_number==0:\n",
        "      #   break\n",
        "\n",
        "    return models_details\n",
        "\n",
        "def predict(model,data):\n",
        "\n",
        "     model.eval()\n",
        "     with torch.no_grad():\n",
        "        if number_videos !=0:\n",
        "          x = torch.tensor(data).to(device)\n",
        "\n",
        "          x = x.permute(0,1, 4, 2, 3) # batch_size, num_frames, channels, height, width\n",
        "          x = x.float()\n",
        "\n",
        "          outputs = model(x)\n",
        "          outputs = np.array(outputs.cpu().numpy()>=0.5).astype(int)\n",
        "          return outputs.squeeze()\n",
        "        else:\n",
        "          actual = []\n",
        "          predicteds=[]\n",
        "          for i,(x, y) in enumerate(data):\n",
        "\n",
        "            x, y = x.clone().detach().to(device), y.clone().detach().to(device)\n",
        "            y = y.unsqueeze(-1)\n",
        "            x = x.permute(0,1, 4, 2, 3) # batch_size, num_frames, channels, height, width\n",
        "            x = x.float()\n",
        "\n",
        "            outputs = model(x)\n",
        "            predicted = np.array(outputs.cpu().numpy()>=0.5).astype(int)\n",
        "            actual.extend(list(y.cpu()))\n",
        "            predicteds.extend(list(predicted))\n",
        "        return np.array(actual).reshape(-1),np.array(predicteds).reshape(-1)\n"
      ]
    },
    {
      "cell_type": "code",
      "execution_count": 15,
      "metadata": {
        "colab": {
          "base_uri": "https://localhost:8080/"
        },
        "id": "XJpfWYq50oVl",
        "outputId": "0b367d82-776b-4c55-d63b-af5571d28097",
        "trusted": true
      },
      "outputs": [
        {
          "name": "stdout",
          "output_type": "stream",
          "text": [
            "fold 1/3: ----------------------------- \n",
            "Epoch 80, loss: 0.00002372              precision    recall  f1-score   support\n",
            "\n",
            "           0       0.96      0.98      0.97        46\n",
            "           1       0.95      0.90      0.93        21\n",
            "\n",
            "    accuracy                           0.96        67\n",
            "   macro avg       0.95      0.94      0.95        67\n",
            "weighted avg       0.96      0.96      0.95        67\n",
            "\n",
            "\n",
            "Fold 1, loss: 0.23743844032287598\n",
            "-----------------------------------------------------------------------------------------------------\n",
            "fold 2/3: ----------------------------- \n",
            "Epoch 80, loss: 0.00000000              precision    recall  f1-score   support\n",
            "\n",
            "           0       0.94      1.00      0.97        34\n",
            "           1       1.00      0.94      0.97        33\n",
            "\n",
            "    accuracy                           0.97        67\n",
            "   macro avg       0.97      0.97      0.97        67\n",
            "weighted avg       0.97      0.97      0.97        67\n",
            "\n",
            "\n",
            "Fold 2, loss: 0.1877880096435547\n",
            "-----------------------------------------------------------------------------------------------------\n",
            "fold 3/3: ----------------------------- \n",
            "Epoch 80, loss: 0.00000000              precision    recall  f1-score   support\n",
            "\n",
            "           0       1.00      0.94      0.97        32\n",
            "           1       0.94      1.00      0.97        34\n",
            "\n",
            "    accuracy                           0.97        66\n",
            "   macro avg       0.97      0.97      0.97        66\n",
            "weighted avg       0.97      0.97      0.97        66\n",
            "\n",
            "\n",
            "Fold 3, loss: 1.5151515007019043\n",
            "-----------------------------------------------------------------------------------------------------\n"
          ]
        }
      ],
      "source": [
        "models_details=[]\n",
        "history = train_cross_validation(dataset,80 )"
      ]
    },
    {
      "cell_type": "code",
      "execution_count": 16,
      "metadata": {
        "colab": {
          "base_uri": "https://localhost:8080/"
        },
        "id": "rYJ_xSukzMTh",
        "outputId": "525d3ff7-98cc-409e-c819-70ad84c0a8f6",
        "trusted": true
      },
      "outputs": [
        {
          "name": "stdout",
          "output_type": "stream",
          "text": [
            "model number 0 ===================================\n",
            "classification:                precision    recall  f1-score   support\n",
            "\n",
            "           0       0.96      0.98      0.97        46\n",
            "           1       0.95      0.90      0.93        21\n",
            "\n",
            "    accuracy                           0.96        67\n",
            "   macro avg       0.95      0.94      0.95        67\n",
            "weighted avg       0.96      0.96      0.95        67\n",
            "\n",
            "===================================================\n",
            "model number 1 ===================================\n",
            "classification:                precision    recall  f1-score   support\n",
            "\n",
            "           0       0.94      1.00      0.97        34\n",
            "           1       1.00      0.94      0.97        33\n",
            "\n",
            "    accuracy                           0.97        67\n",
            "   macro avg       0.97      0.97      0.97        67\n",
            "weighted avg       0.97      0.97      0.97        67\n",
            "\n",
            "===================================================\n",
            "model number 2 ===================================\n",
            "classification:                precision    recall  f1-score   support\n",
            "\n",
            "           0       1.00      0.94      0.97        32\n",
            "           1       0.94      1.00      0.97        34\n",
            "\n",
            "    accuracy                           0.97        66\n",
            "   macro avg       0.97      0.97      0.97        66\n",
            "weighted avg       0.97      0.97      0.97        66\n",
            "\n",
            "===================================================\n"
          ]
        }
      ],
      "source": [
        "for i in range(3):\n",
        "  print(f\"model number {i} ===================================\")\n",
        "  # print(\"recall: \",history[i][\"recall\"])\n",
        "  # print(\"precision: \",history[i][\"precision\"])\n",
        "  # print(\"f1: \",history[i][\"f1\"])\n",
        "  # print(\"accuracy: \",history[i][\"accuracy\"])\n",
        "  print(\"classification: \",history[i][\"classification\"])\n",
        "  print(\"===================================================\")"
      ]
    },
    {
      "cell_type": "code",
      "execution_count": 17,
      "metadata": {
        "colab": {
          "base_uri": "https://localhost:8080/",
          "height": 430
        },
        "id": "fMGJOgcFpL7D",
        "outputId": "c3242453-33f5-4e04-c50d-57faf116d0d1",
        "trusted": true
      },
      "outputs": [
        {
          "data": {
            "image/png": "[encoded data removed]",
            "text/plain": [
              "<Figure size 640x480 with 1 Axes>"
            ]
          },
          "metadata": {},
          "output_type": "display_data"
        }
      ],
      "source": [
        "plt.plot(history[0][\"loss\"])\n",
        "plt.plot(history[1][\"loss\"])\n",
        "plt.plot(history[2][\"loss\"])\n",
        "plt.legend([\"model 1\",\"model 2\",\"model 3\"])\n",
        "plt.show()"
      ]
    },
    {
      "cell_type": "code",
      "execution_count": 17,
      "metadata": {
        "id": "mAvTvMEJrzjH",
        "trusted": true
      },
      "outputs": [],
      "source": []
    },
    {
      "cell_type": "code",
      "execution_count": 17,
      "metadata": {
        "id": "-6x8oY-g0Hy5",
        "trusted": true
      },
      "outputs": [],
      "source": []
    }
  ],
  "metadata": {
    "accelerator": "GPU",
    "colab": {
      "gpuType": "T4",
      "provenance": []
    },
    "kaggle": {
      "accelerator": "nvidiaTeslaT4",
      "dataSources": [
        {
          "datasetId": 1909705,
          "sourceId": 3134515,
          "sourceType": "datasetVersion"
        },
        {
          "datasetId": 2666698,
          "sourceId": 4570814,
          "sourceType": "datasetVersion"
        }
      ],
      "dockerImageVersionId": 30823,
      "isGpuEnabled": true,
      "isInternetEnabled": true,
      "language": "python",
      "sourceType": "notebook"
    },
    "kernelspec": {
      "display_name": "Python 3",
      "name": "python3"
    },
    "language_info": {
      "codemirror_mode": {
        "name": "ipython",
        "version": 3
      },
      "file_extension": ".py",
      "mimetype": "text/x-python",
      "name": "python",
      "nbconvert_exporter": "python",
      "pygments_lexer": "ipython3",
      "version": "3.10.12"
    }
  },
  "nbformat": 4,
  "nbformat_minor": 0
}
