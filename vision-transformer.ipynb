{
 "cells": [
  {
   "cell_type": "code",
   "execution_count": 11,
   "metadata": {
    "execution": {
     "iopub.execute_input": "2024-12-31T03:56:01.814591Z",
     "iopub.status.busy": "2024-12-31T03:56:01.814285Z",
     "iopub.status.idle": "2024-12-31T03:56:01.818416Z",
     "shell.execute_reply": "2024-12-31T03:56:01.817457Z",
     "shell.execute_reply.started": "2024-12-31T03:56:01.814567Z"
    },
    "trusted": true
   },
   "outputs": [],
   "source": [
    "CUDA_LAUNCH_BLOCKING = \"1\""
   ]
  },
  {
   "cell_type": "code",
   "execution_count": 12,
   "metadata": {
    "execution": {
     "iopub.execute_input": "2024-12-31T03:56:01.819926Z",
     "iopub.status.busy": "2024-12-31T03:56:01.819572Z",
     "iopub.status.idle": "2024-12-31T03:56:01.830523Z",
     "shell.execute_reply": "2024-12-31T03:56:01.829682Z",
     "shell.execute_reply.started": "2024-12-31T03:56:01.819895Z"
    },
    "id": "JPpn4PyW625u",
    "trusted": true
   },
   "outputs": [],
   "source": [
    "import numpy as np\n",
    "import pandas as pd\n",
    "import os\n",
    "import torch\n",
    "from torch import nn\n",
    "import torch.nn.functional as F\n",
    "import matplotlib.pyplot as plt\n",
    "from tqdm import tqdm\n",
    "import shutil\n",
    "from copy import deepcopy\n",
    "from sklearn.model_selection import KFold\n",
    "from torch.utils.data import Subset,Dataset,DataLoader\n",
    "import pandas as pd\n",
    "import cv2\n",
    "from torchvision import models\n",
    "from torchvision.models import MobileNet_V2_Weights\n",
    "import kagglehub\n",
    "from sklearn.metrics import classification_report, precision_score, recall_score, f1_score\n",
    "\n",
    "os.environ['CUDA_LAUNCH_BLOCKING'] = \"1\"\n",
    "# "
   ]
  },
  {
   "cell_type": "code",
   "execution_count": 13,
   "metadata": {
    "execution": {
     "iopub.execute_input": "2024-12-31T03:56:01.832401Z",
     "iopub.status.busy": "2024-12-31T03:56:01.832149Z",
     "iopub.status.idle": "2024-12-31T03:56:01.842568Z",
     "shell.execute_reply": "2024-12-31T03:56:01.841766Z",
     "shell.execute_reply.started": "2024-12-31T03:56:01.832373Z"
    },
    "id": "tl7u0MwUB0WK",
    "trusted": true
   },
   "outputs": [],
   "source": [
    "number_videos = 0\n",
    "number_frames = 8\n",
    "batch_size = 8\n",
    "total_number_with_batch = 200\n",
    "video_size = 224"
   ]
  },
  {
   "cell_type": "code",
   "execution_count": 14,
   "metadata": {
    "colab": {
     "base_uri": "https://localhost:8080/"
    },
    "execution": {
     "iopub.execute_input": "2024-12-31T03:56:01.844004Z",
     "iopub.status.busy": "2024-12-31T03:56:01.843735Z",
     "iopub.status.idle": "2024-12-31T03:56:02.551873Z",
     "shell.execute_reply": "2024-12-31T03:56:02.550997Z",
     "shell.execute_reply.started": "2024-12-31T03:56:01.843973Z"
    },
    "id": "rrsrDcqa625v",
    "outputId": "2f63c668-393c-4965-a12c-c17bd2d0cd21",
    "trusted": true
   },
   "outputs": [
    {
     "name": "stdout",
     "output_type": "stream",
     "text": [
      "Path to dataset files: /kaggle/input/deepfake-face-mask-dataset-dffmd\n"
     ]
    }
   ],
   "source": [
    "path = kagglehub.dataset_download(\"hhalalwi/deepfake-face-mask-dataset-dffmd\")\n",
    "# path = \"/kaggle/input/deepfake-face-mask-dataset-dffmd\"\n",
    "print(\"Path to dataset files:\", path)"
   ]
  },
  {
   "cell_type": "code",
   "execution_count": 15,
   "metadata": {
    "colab": {
     "base_uri": "https://localhost:8080/"
    },
    "execution": {
     "iopub.execute_input": "2024-12-31T03:56:02.553073Z",
     "iopub.status.busy": "2024-12-31T03:56:02.552776Z",
     "iopub.status.idle": "2024-12-31T03:56:02.557473Z",
     "shell.execute_reply": "2024-12-31T03:56:02.556780Z",
     "shell.execute_reply.started": "2024-12-31T03:56:02.553043Z"
    },
    "id": "vppTkLk4M5TB",
    "outputId": "ef0fdd0b-2bef-4bed-e82b-0a5f5e447a87",
    "trusted": true
   },
   "outputs": [
    {
     "name": "stdout",
     "output_type": "stream",
     "text": [
      "GPU\n"
     ]
    }
   ],
   "source": [
    "if torch.cuda.is_available():\n",
    "  device = torch.device(\"cuda:0\")\n",
    "  print(\"GPU\")\n",
    "else:\n",
    "  device = torch.device(\"cpu\")\n",
    "  print(\"CPU\")"
   ]
  },
  {
   "cell_type": "code",
   "execution_count": 16,
   "metadata": {
    "colab": {
     "base_uri": "https://localhost:8080/"
    },
    "execution": {
     "iopub.execute_input": "2024-12-31T03:56:02.558345Z",
     "iopub.status.busy": "2024-12-31T03:56:02.558127Z",
     "iopub.status.idle": "2024-12-31T03:56:02.580129Z",
     "shell.execute_reply": "2024-12-31T03:56:02.579516Z",
     "shell.execute_reply.started": "2024-12-31T03:56:02.558326Z"
    },
    "id": "2slSA0LH7Obt",
    "outputId": "dd98060f-5d43-4b9b-8993-078de7e4b121",
    "trusted": true
   },
   "outputs": [
    {
     "data": {
      "text/plain": [
       "1836"
      ]
     },
     "execution_count": 16,
     "metadata": {},
     "output_type": "execute_result"
    }
   ],
   "source": [
    "data = []\n",
    "\n",
    "for folder in os.listdir(path):\n",
    "  if folder == \"Fake\" or folder == \"Real\":\n",
    "    for file in os.listdir(os.path.join(path,folder,folder)):\n",
    "      if folder == \"Fake\":\n",
    "        data.append([os.path.join(path,folder,folder,file),0])\n",
    "      else:\n",
    "        data.append([os.path.join(path,folder,folder,file),1])\n",
    "data = np.array(data)\n",
    "np.random.shuffle(data)\n",
    "len(data)"
   ]
  },
  {
   "cell_type": "code",
   "execution_count": 17,
   "metadata": {
    "execution": {
     "iopub.execute_input": "2024-12-31T03:56:02.582121Z",
     "iopub.status.busy": "2024-12-31T03:56:02.581930Z",
     "iopub.status.idle": "2024-12-31T03:56:02.586133Z",
     "shell.execute_reply": "2024-12-31T03:56:02.585273Z",
     "shell.execute_reply.started": "2024-12-31T03:56:02.582104Z"
    },
    "id": "46XsV3Tc9eXL",
    "trusted": true
   },
   "outputs": [],
   "source": [
    "class VideoDataset(Dataset):\n",
    "    def __init__(self,data,labels):\n",
    "        self.data = data\n",
    "        self.labels = labels\n",
    "\n",
    "    def __len__(self):\n",
    "        return len(self.data)\n",
    "    def __getitem__(self, idx):\n",
    "\n",
    "        return np.array(self.data[idx]),torch.tensor(self.labels[idx])\n",
    "\n",
    "\n"
   ]
  },
  {
   "cell_type": "code",
   "execution_count": 18,
   "metadata": {
    "execution": {
     "iopub.execute_input": "2024-12-31T03:56:02.587569Z",
     "iopub.status.busy": "2024-12-31T03:56:02.587365Z",
     "iopub.status.idle": "2024-12-31T03:56:02.597219Z",
     "shell.execute_reply": "2024-12-31T03:56:02.596466Z",
     "shell.execute_reply.started": "2024-12-31T03:56:02.587551Z"
    },
    "id": "lgv_KPrENWux",
    "trusted": true
   },
   "outputs": [],
   "source": [
    "def get_frames(video_path):\n",
    "        cap = cv2.VideoCapture(video_path)\n",
    "\n",
    "        total_frame_count = int(cap.get(cv2.CAP_PROP_FRAME_COUNT))\n",
    "        indices = np.linspace(0, total_frame_count - 1, number_frames, dtype=int)\n",
    "        frames = []\n",
    "\n",
    "        for index in indices:\n",
    "            cap.set(cv2.CAP_PROP_POS_FRAMES, index)\n",
    "            ret, frame = cap.read()\n",
    "\n",
    "            while not ret and index < total_frame_count - 1:\n",
    "                index += 1\n",
    "                cap.set(cv2.CAP_PROP_POS_FRAMES, index)\n",
    "                ret, frame = cap.read()\n",
    "\n",
    "            if not ret:\n",
    "                break\n",
    "\n",
    "            frame = cv2.resize(frame, (video_size, video_size))\n",
    "            frame = cv2.cvtColor(frame, cv2.COLOR_BGR2RGB)\n",
    "            frames.append(frame)\n",
    "\n",
    "        cap.release()\n",
    "\n",
    "        if frames:\n",
    "            while len(frames) < number_frames:\n",
    "                frames.append(frames[-1].copy())\n",
    "        else:\n",
    "            raise ValueError(\"No frames were successfully extracted from the video.\")\n",
    "\n",
    "        return frames"
   ]
  },
  {
   "cell_type": "code",
   "execution_count": 19,
   "metadata": {
    "execution": {
     "iopub.execute_input": "2024-12-31T03:56:02.598421Z",
     "iopub.status.busy": "2024-12-31T03:56:02.598202Z",
     "iopub.status.idle": "2024-12-31T03:56:02.610264Z",
     "shell.execute_reply": "2024-12-31T03:56:02.609538Z",
     "shell.execute_reply.started": "2024-12-31T03:56:02.598403Z"
    },
    "id": "-hUzBKftG1KH",
    "trusted": true
   },
   "outputs": [],
   "source": [
    "def get_data(data,number_frames,number_videos=0):\n",
    "    if number_videos == 0:\n",
    "      data= data[:total_number_with_batch]\n",
    "      frames =[]\n",
    "      labels = []\n",
    "      for video in tqdm(data):\n",
    "        frames.append(get_frames(video[0]))\n",
    "        label = [0,0]\n",
    "        label[int(video[1])] = 1\n",
    "        labels.append(label)\n",
    "      vidoes_dataset = VideoDataset(frames,labels)\n",
    "      return vidoes_dataset\n",
    "    else:\n",
    "      data = data[:number_videos]\n",
    "      vidoes_dataset = VideoDataset(data,number_frames)\n",
    "      data_frames = []\n",
    "      labels = []\n",
    "\n",
    "      for i in tqdm(range(len(vidoes_dataset))):\n",
    "        frames,label = vidoes_dataset[i]\n",
    "        data_frames.append(frames)\n",
    "        labels.append(int(label))\n",
    "\n",
    "      data_frames = np.array(data_frames)\n",
    "      print(data_frames.shape)\n",
    "      return (data_frames,labels)\n"
   ]
  },
  {
   "cell_type": "code",
   "execution_count": 20,
   "metadata": {
    "colab": {
     "base_uri": "https://localhost:8080/"
    },
    "execution": {
     "iopub.execute_input": "2024-12-31T03:56:02.611172Z",
     "iopub.status.busy": "2024-12-31T03:56:02.610944Z",
     "iopub.status.idle": "2024-12-31T03:59:34.388493Z",
     "shell.execute_reply": "2024-12-31T03:59:34.387784Z",
     "shell.execute_reply.started": "2024-12-31T03:56:02.611152Z"
    },
    "id": "q9efBg_-3N50",
    "outputId": "2f721e5f-71f7-4279-dc56-b5efec5e438e",
    "trusted": true
   },
   "outputs": [
    {
     "name": "stderr",
     "output_type": "stream",
     "text": [
      "100%|██████████| 200/200 [03:31<00:00,  1.06s/it]\n"
     ]
    }
   ],
   "source": [
    "dataset = get_data(data,number_frames,number_videos)"
   ]
  },
  {
   "cell_type": "code",
   "execution_count": 21,
   "metadata": {
    "execution": {
     "iopub.execute_input": "2024-12-31T03:59:34.389749Z",
     "iopub.status.busy": "2024-12-31T03:59:34.389394Z",
     "iopub.status.idle": "2024-12-31T03:59:34.394541Z",
     "shell.execute_reply": "2024-12-31T03:59:34.393785Z",
     "shell.execute_reply.started": "2024-12-31T03:59:34.389717Z"
    },
    "id": "5D7JycEc625y",
    "trusted": true
   },
   "outputs": [],
   "source": [
    "class CNN(nn.Module):\n",
    "    def __init__(self):\n",
    "        super().__init__()\n",
    "\n",
    "        self.vit = models.vit_b_16(weights=models.ViT_B_16_Weights.IMAGENET1K_V1)\n",
    "        self.vit.heads = nn.Linear(768, 2)\n",
    "        # nn.init.xavier_uniform_(self.vit.heads.weight)\n",
    "        # nn.init.zeros_(self.vit.heads.bias)\n",
    "\n",
    "    def forward(self, x):\n",
    "        batch_size, num_frames, channels, height, width = x.size()\n",
    "\n",
    "        x = x.view(batch_size * num_frames, channels, height, width)\n",
    "        \n",
    "        x = self.vit(x) \n",
    "        return x\n",
    "\n",
    "  # 32*1"
   ]
  },
  {
   "cell_type": "code",
   "execution_count": 22,
   "metadata": {
    "execution": {
     "iopub.execute_input": "2024-12-31T03:59:34.395660Z",
     "iopub.status.busy": "2024-12-31T03:59:34.395397Z",
     "iopub.status.idle": "2024-12-31T03:59:34.404322Z",
     "shell.execute_reply": "2024-12-31T03:59:34.403468Z",
     "shell.execute_reply.started": "2024-12-31T03:59:34.395633Z"
    },
    "id": "VnkM9cZc625z",
    "trusted": true
   },
   "outputs": [],
   "source": [
    "def train(data,epoch ,model,optimizer,loss_fun):\n",
    "\n",
    "    total_loss = []\n",
    "    model.train()\n",
    "    for ep in tqdm(range(epoch)):\n",
    "      if number_videos !=0:\n",
    "        optimizer.zero_grad()\n",
    "        x = torch.tensor(data[0]).to(device)\n",
    "\n",
    "        x = x.permute(0,1, 4, 2, 3) # batch_size, num_frames, channels, height, width\n",
    "        x = x.float()\n",
    "\n",
    "        target = torch.tensor(data[1]).to(device)\n",
    "        target = target.float()\n",
    "        target = target.unsqueeze(-1)\n",
    "        outputs = model(x)\n",
    "        loss = loss_fun(outputs,target)\n",
    "        loss.backward()\n",
    "        optimizer.step()\n",
    "\n",
    "      else:\n",
    "        total_loss_per_epoch = 0\n",
    "        total_number_of_batches = 0\n",
    "        data_loader = DataLoader(data, batch_size=batch_size, shuffle=True)\n",
    "        for i, (x, target) in enumerate(data_loader):\n",
    "            \n",
    "          optimizer.zero_grad()\n",
    "          x = torch.tensor(x).to(device)\n",
    "\n",
    "          x = x.permute(0,1, 4, 2, 3) # batch_size, num_frames, channels, height, width\n",
    "          # print(x.size())\n",
    "          x = x.float()\n",
    "\n",
    "          target = torch.tensor(target).to(device)\n",
    "          target = target.float()\n",
    "          target = target.repeat_interleave(number_frames, dim=0).to(device)\n",
    "\n",
    "          outputs = model(x)\n",
    "          # print(\"target size: \", target.size())\n",
    "          # print(\"output size: \", outputs.size())\n",
    "          loss = loss_fun(outputs,target)\n",
    "          loss.backward()\n",
    "          optimizer.step()\n",
    "          total_loss_per_epoch+=float(loss)\n",
    "          total_number_of_batches+= 1\n",
    "      total_loss.append(total_loss_per_epoch/total_number_of_batches)\n",
    "\n",
    "\n",
    "    return total_loss"
   ]
  },
  {
   "cell_type": "code",
   "execution_count": 23,
   "metadata": {
    "execution": {
     "iopub.execute_input": "2024-12-31T03:59:34.405344Z",
     "iopub.status.busy": "2024-12-31T03:59:34.405115Z",
     "iopub.status.idle": "2024-12-31T03:59:34.421311Z",
     "shell.execute_reply": "2024-12-31T03:59:34.420674Z",
     "shell.execute_reply.started": "2024-12-31T03:59:34.405315Z"
    },
    "id": "XcM6KSsBJ8dD",
    "trusted": true
   },
   "outputs": [],
   "source": [
    "class GreyWolfOA:\n",
    "    def __init__(self, n=5,i=100):\n",
    "        self.population_size = n\n",
    "        self.iterations = i\n",
    "    def fittness(self, population,is_fittness_calculated,previous_fittness_values):\n",
    "        population = np.array(population)\n",
    "        values = []\n",
    "        i=0\n",
    "        print(\"fittness: \")\n",
    "        for index,sample in enumerate(population):\n",
    "          if is_fittness_calculated[index]:\n",
    "            values.append(previous_fittness_values[index])\n",
    "            continue\n",
    "          elif population[index]<0:\n",
    "            values.append(10000000)\n",
    "            continue\n",
    "          else:\n",
    "            print(\"lr: \",population[index])\n",
    "            model = CNN().to(self.device)\n",
    "            optimizer = torch.optim.Adam(model.parameters(),lr= sample)\n",
    "            loss_fun = nn.CrossEntropyLoss()\n",
    "            history = train(self.data,10,model,optimizer,loss_fun)\n",
    "            # print(np.array(history[\"loss\"][-5:]).mean())\n",
    "            values.append(np.array(history[-5:]).mean())\n",
    "            i+=1\n",
    "            is_fittness_calculated[index] = True\n",
    "        return values , is_fittness_calculated\n",
    "\n",
    "    def calc_singleX(self,a,sample_i, wolf):#wolf = (alpha,beta,gamma)\n",
    "        random1,random2 = np.random.uniform(0.0000001,0.00001),np.random.uniform(0.0000001,0.00001)\n",
    "        A = (2*a* random1) - a\n",
    "        B = 2* random2\n",
    "        C = np.abs(B* wolf - sample_i)\n",
    "        x = wolf - A*C\n",
    "        return x\n",
    "\n",
    "    def fit(self,data,device):\n",
    "        self.data = data\n",
    "        self.device = device\n",
    "\n",
    "        population = np.random.uniform(0.0000001,0.00001,size=self.population_size)\n",
    "        is_fittness_calculated= [False for _ in range(self.population_size)]\n",
    "        history = []\n",
    "        previous_fittness_values = []\n",
    "        for i in range(self.iterations):\n",
    "\n",
    "            fitness_values,is_fittness_calculated = self.fittness(population,is_fittness_calculated,previous_fittness_values)\n",
    "            indecies = np.argsort(fitness_values)\n",
    "\n",
    "            alpha = population[indecies[0]]\n",
    "            beta = population[indecies[1]]\n",
    "            gamma = population[indecies[2]]\n",
    "            a = 2 *(1-(i /self.iterations))**30\n",
    "\n",
    "            for sample in range(self.population_size):\n",
    "                x1 = self.calc_singleX(a,sample,alpha)\n",
    "                x2 = self.calc_singleX(a,sample,beta)\n",
    "                x3 = self.calc_singleX(a,sample,gamma)\n",
    "\n",
    "\n",
    "                new_x = (x1+x2+x3)/3\n",
    "                new_fittness,_= self.fittness([new_x],[False],[0])\n",
    "                if fitness_values[sample] > new_fittness[0]:\n",
    "                    population[sample] = new_x\n",
    "                    fitness_values[sample]= new_fittness[0]\n",
    "                    is_fittness_calculated[sample]=True\n",
    "\n",
    "            previous_fittness_values= deepcopy(fitness_values)\n",
    "\n",
    "            indecies = np.argsort(fitness_values)\n",
    "            history.append([population[indecies[0]],fitness_values[indecies[0]]])\n",
    "            print(\"-----------alpha is: \",population[indecies[0]],\"loss: \",fitness_values[indecies[0]])\n",
    "            print('-----------------------------------------------------------')\n",
    "            print(f'Iteration {i+1}population: {population}')\n",
    "        return population[indecies[0]],history"
   ]
  },
  {
   "cell_type": "code",
   "execution_count": 24,
   "metadata": {
    "execution": {
     "iopub.execute_input": "2024-12-31T03:59:34.422410Z",
     "iopub.status.busy": "2024-12-31T03:59:34.422151Z",
     "iopub.status.idle": "2024-12-31T03:59:34.435066Z",
     "shell.execute_reply": "2024-12-31T03:59:34.434412Z",
     "shell.execute_reply.started": "2024-12-31T03:59:34.422384Z"
    },
    "id": "jnrEGW_B625z",
    "trusted": true
   },
   "outputs": [],
   "source": [
    "# greywolf = GreyWolfOA(5,10)\n",
    "# alpha , history = greywolf.fit(dataset,device)"
   ]
  },
  {
   "cell_type": "code",
   "execution_count": 25,
   "metadata": {
    "execution": {
     "iopub.execute_input": "2024-12-31T03:59:34.436025Z",
     "iopub.status.busy": "2024-12-31T03:59:34.435824Z",
     "iopub.status.idle": "2024-12-31T03:59:34.455614Z",
     "shell.execute_reply": "2024-12-31T03:59:34.454927Z",
     "shell.execute_reply.started": "2024-12-31T03:59:34.436008Z"
    },
    "id": "mEhw26aMzra5",
    "trusted": true
   },
   "outputs": [],
   "source": [
    "def evaluate_model(model, loss_fun,data_loader):\n",
    "  model.eval()\n",
    "  data_loss = 0.0\n",
    "  correct = 0\n",
    "  total = 0\n",
    "  with torch.no_grad():\n",
    "    if number_videos !=0:\n",
    "        train,labels = data_loader\n",
    "        x, y = torch.tensor(train).to(device), torch.tensor(labels).to(device)\n",
    "        x = x.permute(0,1, 4, 2, 3) # batch_size, num_frames, channels, height, width\n",
    "        x = x.float()\n",
    "\n",
    "        outputs = model(x)\n",
    "        y = y.float()\n",
    "        y = y.unsqueeze(-1)\n",
    "\n",
    "        loss = loss_fun(outputs, y)\n",
    "        data_loss += loss.item()\n",
    "        for t in range(len(outputs)):\n",
    "          if outputs[t] >= 0.5 and y[t]==1:\n",
    "            correct+= 1\n",
    "            total+=1\n",
    "          elif outputs[t] < 0.5 and y[t]==0:\n",
    "            correct += 1\n",
    "            total+=1\n",
    "          else:\n",
    "            total+=1\n",
    "    else:\n",
    "      for i,(x, y) in enumerate(data_loader):\n",
    "          x, y = x.clone().detach().to(device), y.clone().detach().to(device).float()\n",
    "          x = x.permute(0,1, 4, 2, 3) # batch_size, num_frames, channels, height, width\n",
    "          x = x.float()\n",
    "          outputs = model(x)\n",
    "          y = y.repeat_interleave(number_frames, dim=0)\n",
    "          # y = y.unsqueeze(-1)\n",
    "\n",
    "          loss = loss_fun(outputs, y)\n",
    "          data_loss += loss.item()\n",
    "          for t in range(len(outputs)):\n",
    "            if outputs[t] >= 0.5 and y[t]==1:\n",
    "              correct+= 1\n",
    "              total+=1\n",
    "            elif outputs[t] < 0.5 and y[t]==0:\n",
    "              correct += 1\n",
    "              total+=1\n",
    "            else:\n",
    "              total+=1\n",
    "          predicted = np.array(outputs.cpu().numpy()>=0.5).astype(int)\n",
    "          correct += (predicted == y.cpu().numpy()).sum().item()\n",
    "          total += y.size(0)\n",
    "\n",
    "\n",
    "  data_loss /= len(data_loader)\n",
    "  val_accuracy = correct / total\n",
    "  return data_loss, val_accuracy\n",
    "\n",
    "def train_cross_validation(data,epoch):\n",
    "\n",
    "    k_folds = 3\n",
    "    kf = KFold(n_splits=k_folds, shuffle=True, random_state=42)\n",
    "\n",
    "    fold_results=[]\n",
    "    models_details=[]\n",
    "\n",
    "    if number_videos !=0:\n",
    "      splited_data = data[0]\n",
    "    else:\n",
    "      splited_data = data\n",
    "\n",
    "    for fold_number,(train_idx,val_idx) in enumerate(kf.split(splited_data)):\n",
    "\n",
    "      if number_videos != 0:\n",
    "        train_videos = np.array(data[0])[train_idx]\n",
    "        train_labels = np.array(data[1])[train_idx]\n",
    "\n",
    "        val_videos = np.array(data[0])[val_idx]\n",
    "        val_labels = np.array(data[1])[val_idx]\n",
    "\n",
    "      else:\n",
    "        train_subset = Subset(splited_data, train_idx)\n",
    "        val_subset = Subset(splited_data, val_idx)\n",
    "\n",
    "        train_loader = DataLoader(train_subset, batch_size=batch_size, shuffle=True)\n",
    "        val_loader = DataLoader(val_subset, batch_size=batch_size, shuffle=True)\n",
    "\n",
    "      model = CNN().to(device)\n",
    "      optimizer = torch.optim.Adam(model.parameters(),lr=7.230602805287952e-05    )\n",
    "      loss_fun = nn.CrossEntropyLoss()\n",
    "\n",
    "      print(f\"fold {fold_number+1}/3: ----------------------------- \")\n",
    "      total_loss = []\n",
    "      model.train()\n",
    "      # for ep in range(epoch):\n",
    "      if number_videos !=0:\n",
    "        for ep in range(epoch):\n",
    "          optimizer.zero_grad()\n",
    "          x = torch.tensor(train_videos).to(device)\n",
    "\n",
    "          x = x.permute(0,1, 4, 2, 3) # batch_size, num_frames, channels, height, width\n",
    "          x = x.float()\n",
    "\n",
    "          target = torch.tensor(train_labels).to(device)\n",
    "          target = target.float()\n",
    "          target = target.repeat_interleave(number_frames, dim=0).to(device)\n",
    "\n",
    "          target = target.unsqueeze(-1)\n",
    "          target = target.repeat_interleave(8, dim=0).to(device)\n",
    "\n",
    "          outputs = model(x)\n",
    "          loss = loss_fun(outputs,target)\n",
    "          loss.backward()\n",
    "          optimizer.step()\n",
    "          print(f\"\\rEpoch {ep+1}, loss: {loss.item():.8f}\",end=\"\")\n",
    "          total_loss.append(float(loss))\n",
    "\n",
    "      else:\n",
    "          for ep in range(epoch):\n",
    "              loss_per_epoch = 0\n",
    "              for i, (x, target) in enumerate(train_loader):\n",
    "          # target = target.clone().detach().requires_grad_(True)\n",
    "                  target = target.clone().detach().to(device).float()# [0,1]\n",
    "                  target = target.repeat_interleave(number_frames, dim=0).to(device).float()#3\n",
    "                  #8 ---> 24\n",
    "\n",
    "    \n",
    "                  x = x.permute(0,1, 4, 2, 3) # batch_size, num_frames, channels, height, width\n",
    "                  x = x.float()\n",
    "                  # target = target.to(device).unsqueeze(-1)\n",
    "                  x= x.to(device)\n",
    "                  optimizer.zero_grad()\n",
    "\n",
    "\n",
    "                  outputs = model(x) #24,3,234,224\n",
    "                  loss =loss_fun(outputs,target)\n",
    "                  loss_per_epoch += float(loss.item())\n",
    "                  loss.backward()\n",
    "                  optimizer.step()\n",
    "                  print(f\"\\rEpoch {ep+1}, loss: {(loss_per_epoch/(i+1)):.8f}, [{i}/{len(train_loader)}]\",end=\"\")\n",
    "                  total_loss.append(float(loss_per_epoch/(i+1)))\n",
    "\n",
    "\n",
    "      if number_videos != 0:\n",
    "        loss,accuracy = evaluate_model(model,loss_fun,(val_videos,val_labels))\n",
    "        y_true = val_labels\n",
    "        y_predict = predict(model,val_videos)\n",
    "      else:\n",
    "        # loss,accuracy = evaluate_model(model,loss_fun,val_loader)\n",
    "        y_true,y_predict = predict(model,val_loader)\n",
    "      models_details.append(\n",
    "      {\n",
    "      \"loss\":total_loss,\n",
    "      # \"accuracy\":accuracy,\n",
    "      #  \"precision\":precision_score(y_true,y_predict),\n",
    "      # \"recall\":recall_score(y_true,y_predict),\n",
    "      # \"f1\":f1_score(y_true,y_predict),\n",
    "      \"classification\": classification_report(y_true,y_predict,zero_division=0)\n",
    "      }\n",
    "      )\n",
    "      print(classification_report(y_true,y_predict,zero_division=0))\n",
    "      print()\n",
    "      print(f\"Fold {fold_number + 1}, loss: {float(loss)}\")\n",
    "      print(\"-----------------------------------------------------------------------------------------------------\")\n",
    "      # fold_results.append((val_loss, accuracy))\n",
    "      # if fold_number==0:\n",
    "      #   break\n",
    "\n",
    "    return models_details\n",
    "\n",
    "def predict(model,data):\n",
    "\n",
    "     model.eval()\n",
    "     with torch.no_grad():\n",
    "        if number_videos !=0:\n",
    "          x = torch.tensor(data).to(device)\n",
    "\n",
    "          x = x.permute(0,1, 4, 2, 3) # batch_size, num_frames, channels, height, width\n",
    "          x = x.float()\n",
    "\n",
    "          outputs = model(x)\n",
    "          outputs = np.array(outputs.cpu().numpy()>=0.5).astype(int)\n",
    "          return outputs\n",
    "        else:\n",
    "          actual = []\n",
    "          predicteds=[]\n",
    "          for i,(x, y) in enumerate(data):\n",
    "\n",
    "            x, y = x.clone().detach().to(device), y.clone().detach().to(device).float()\n",
    "            y = y.repeat_interleave(number_frames, dim=0).to(device).float()\n",
    "\n",
    "            x = x.permute(0,1, 4, 2, 3) # batch_size, num_frames, channels, height, width\n",
    "            x = x.float()\n",
    "            outputs = model(x)\n",
    "            # print(\"fresh outpus: \",outputs)\n",
    "            # print(\"outputs: \",outputs)\n",
    "            predicted = [np.argmax(output.cpu().numpy()) for output in outputs]\n",
    "            # print(\"actual output: \",y)\n",
    "            y = [np.argmax(label.cpu().numpy()) for label in y]\n",
    "        \n",
    "            actual.extend(y)\n",
    "            predicteds.extend(list(predicted))\n",
    "        # print(\"y: \",actual)\n",
    "        # print(\"predicteds: \",predicteds)\n",
    "        return np.array(actual).reshape(-1),np.array(predicteds).reshape(-1)\n"
   ]
  },
  {
   "cell_type": "code",
   "execution_count": 26,
   "metadata": {
    "colab": {
     "base_uri": "https://localhost:8080/"
    },
    "execution": {
     "iopub.execute_input": "2024-12-31T03:59:34.456454Z",
     "iopub.status.busy": "2024-12-31T03:59:34.456275Z",
     "iopub.status.idle": "2024-12-31T05:13:12.877815Z",
     "shell.execute_reply": "2024-12-31T05:13:12.876619Z",
     "shell.execute_reply.started": "2024-12-31T03:59:34.456438Z"
    },
    "id": "XJpfWYq50oVl",
    "outputId": "7a4cc94d-47d9-437e-94f0-8d3e8370f486",
    "trusted": true
   },
   "outputs": [
    {
     "name": "stdout",
     "output_type": "stream",
     "text": [
      "fold 1/3: ----------------------------- \n",
      "Epoch 40, loss: 0.05344406, [16/17]              precision    recall  f1-score   support\n",
      "\n",
      "           0       0.84      0.94      0.89       248\n",
      "           1       0.94      0.85      0.89       288\n",
      "\n",
      "    accuracy                           0.89       536\n",
      "   macro avg       0.89      0.89      0.89       536\n",
      "weighted avg       0.89      0.89      0.89       536\n",
      "\n",
      "\n",
      "Fold 1, loss: 0.04233511537313461\n",
      "-----------------------------------------------------------------------------------------------------\n",
      "fold 2/3: ----------------------------- \n",
      "Epoch 40, loss: 0.00459698, [16/17]              precision    recall  f1-score   support\n",
      "\n",
      "           0       0.88      0.92      0.90       304\n",
      "           1       0.89      0.84      0.86       232\n",
      "\n",
      "    accuracy                           0.88       536\n",
      "   macro avg       0.89      0.88      0.88       536\n",
      "weighted avg       0.88      0.88      0.88       536\n",
      "\n",
      "\n",
      "Fold 2, loss: 0.0007712374208495021\n",
      "-----------------------------------------------------------------------------------------------------\n",
      "fold 3/3: ----------------------------- \n",
      "Epoch 40, loss: 0.00979216, [16/17]              precision    recall  f1-score   support\n",
      "\n",
      "           0       0.86      0.92      0.89       304\n",
      "           1       0.88      0.79      0.83       224\n",
      "\n",
      "    accuracy                           0.87       528\n",
      "   macro avg       0.87      0.86      0.86       528\n",
      "weighted avg       0.87      0.87      0.86       528\n",
      "\n",
      "\n",
      "Fold 3, loss: 0.003582008183002472\n",
      "-----------------------------------------------------------------------------------------------------\n"
     ]
    }
   ],
   "source": [
    "models_details=[]\n",
    "history = train_cross_validation(dataset,40)"
   ]
  },
  {
   "cell_type": "code",
   "execution_count": 27,
   "metadata": {
    "execution": {
     "iopub.execute_input": "2024-12-31T05:13:12.879237Z",
     "iopub.status.busy": "2024-12-31T05:13:12.878938Z",
     "iopub.status.idle": "2024-12-31T05:13:12.885807Z",
     "shell.execute_reply": "2024-12-31T05:13:12.885149Z",
     "shell.execute_reply.started": "2024-12-31T05:13:12.879214Z"
    },
    "id": "rYJ_xSukzMTh",
    "trusted": true
   },
   "outputs": [
    {
     "name": "stdout",
     "output_type": "stream",
     "text": [
      "model number 0 ===================================\n",
      "classification:                precision    recall  f1-score   support\n",
      "\n",
      "           0       0.84      0.94      0.89       248\n",
      "           1       0.94      0.85      0.89       288\n",
      "\n",
      "    accuracy                           0.89       536\n",
      "   macro avg       0.89      0.89      0.89       536\n",
      "weighted avg       0.89      0.89      0.89       536\n",
      "\n",
      "===================================================\n",
      "model number 1 ===================================\n",
      "classification:                precision    recall  f1-score   support\n",
      "\n",
      "           0       0.88      0.92      0.90       304\n",
      "           1       0.89      0.84      0.86       232\n",
      "\n",
      "    accuracy                           0.88       536\n",
      "   macro avg       0.89      0.88      0.88       536\n",
      "weighted avg       0.88      0.88      0.88       536\n",
      "\n",
      "===================================================\n",
      "model number 2 ===================================\n",
      "classification:                precision    recall  f1-score   support\n",
      "\n",
      "           0       0.86      0.92      0.89       304\n",
      "           1       0.88      0.79      0.83       224\n",
      "\n",
      "    accuracy                           0.87       528\n",
      "   macro avg       0.87      0.86      0.86       528\n",
      "weighted avg       0.87      0.87      0.86       528\n",
      "\n",
      "===================================================\n"
     ]
    }
   ],
   "source": [
    "for i in range(3):\n",
    "  print(f\"model number {i} ===================================\")\n",
    "  # print(\"recall: \",history[i][\"recall\"])\n",
    "  # print(\"precision: \",history[i][\"precision\"])\n",
    "  # print(\"f1: \",history[i][\"f1\"])\n",
    "  # print(\"accuracy: \",history[i][\"accuracy\"])\n",
    "  print(\"classification: \",history[i][\"classification\"])\n",
    "  print(\"===================================================\")"
   ]
  },
  {
   "cell_type": "code",
   "execution_count": null,
   "metadata": {
    "trusted": true
   },
   "outputs": [],
   "source": []
  },
  {
   "cell_type": "code",
   "execution_count": 28,
   "metadata": {
    "execution": {
     "iopub.execute_input": "2024-12-31T05:13:12.886749Z",
     "iopub.status.busy": "2024-12-31T05:13:12.886495Z",
     "iopub.status.idle": "2024-12-31T05:13:13.057383Z",
     "shell.execute_reply": "2024-12-31T05:13:13.056542Z",
     "shell.execute_reply.started": "2024-12-31T05:13:12.886730Z"
    },
    "id": "fMGJOgcFpL7D",
    "trusted": true
   },
   "outputs": [
    {
     "data": {
      "image/png": "[encoded data removed]",
      "text/plain": [
       "<Figure size 640x480 with 1 Axes>"
      ]
     },
     "metadata": {},
     "output_type": "display_data"
    }
   ],
   "source": [
    "plt.plot(history[0][\"loss\"])\n",
    "plt.plot(history[1][\"loss\"])\n",
    "plt.plot(history[2][\"loss\"])\n",
    "plt.legend([\"model 1\",\"model 2\",\"model 3\"])\n",
    "plt.show()"
   ]
  },
  {
   "cell_type": "code",
   "execution_count": null,
   "metadata": {
    "id": "mAvTvMEJrzjH",
    "trusted": true
   },
   "outputs": [],
   "source": []
  },
  {
   "cell_type": "code",
   "execution_count": null,
   "metadata": {
    "id": "0s5zg_8x-y2X",
    "trusted": true
   },
   "outputs": [],
   "source": []
  }
 ],
 "metadata": {
  "colab": {
   "provenance": []
  },
  "kaggle": {
   "accelerator": "nvidiaTeslaT4",
   "dataSources": [
    {
     "datasetId": 1909705,
     "sourceId": 3134515,
     "sourceType": "datasetVersion"
    },
    {
     "datasetId": 2666698,
     "sourceId": 4570814,
     "sourceType": "datasetVersion"
    }
   ],
   "dockerImageVersionId": 30823,
   "isGpuEnabled": true,
   "isInternetEnabled": true,
   "language": "python",
   "sourceType": "notebook"
  },
  "kernelspec": {
   "display_name": "Python 3",
   "language": "python",
   "name": "python3"
  },
  "language_info": {
   "codemirror_mode": {
    "name": "ipython",
    "version": 3
   },
   "file_extension": ".py",
   "mimetype": "text/x-python",
   "name": "python",
   "nbconvert_exporter": "python",
   "pygments_lexer": "ipython3",
   "version": "3.10.12"
  }
 },
 "nbformat": 4,
 "nbformat_minor": 4
}
