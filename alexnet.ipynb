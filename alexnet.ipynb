{
 "cells": [
  {
   "cell_type": "code",
   "execution_count": null,
   "metadata": {
    "execution": {
     "iopub.execute_input": "2024-12-01T22:19:17.601049Z",
     "iopub.status.busy": "2024-12-01T22:19:17.600201Z",
     "iopub.status.idle": "2024-12-01T22:19:17.606336Z",
     "shell.execute_reply": "2024-12-01T22:19:17.605529Z",
     "shell.execute_reply.started": "2024-12-01T22:19:17.601012Z"
    },
    "id": "JPpn4PyW625u",
    "trusted": true
   },
   "outputs": [],
   "source": [
    "import numpy as np\n",
    "import pandas as pd\n",
    "import os\n",
    "import torch\n",
    "from torch import nn\n",
    "import torch.nn.functional as F\n",
    "import matplotlib.pyplot as plt\n",
    "from tqdm import tqdm\n",
    "import shutil\n",
    "from copy import deepcopy\n",
    "from sklearn.model_selection import KFold\n",
    "from torch.utils.data import Subset,Dataset,DataLoader\n",
    "import pandas as pd\n",
    "import cv2\n",
    "from torchvision import models\n",
    "from torchvision.models import AlexNet_Weights\n",
    "\n",
    "from sklearn.metrics import classification_report, precision_score, recall_score, f1_score\n",
    "\n"
   ]
  },
  {
   "cell_type": "code",
   "execution_count": 88,
   "metadata": {
    "execution": {
     "iopub.execute_input": "2024-12-01T22:19:17.613647Z",
     "iopub.status.busy": "2024-12-01T22:19:17.613378Z",
     "iopub.status.idle": "2024-12-01T22:19:17.620529Z",
     "shell.execute_reply": "2024-12-01T22:19:17.619682Z",
     "shell.execute_reply.started": "2024-12-01T22:19:17.613610Z"
    },
    "id": "tl7u0MwUB0WK",
    "trusted": true
   },
   "outputs": [],
   "source": [
    "number_videos = 0\n",
    "number_frames = 7\n",
    "batch_size = 200"
   ]
  },
  {
   "cell_type": "markdown",
   "metadata": {
    "id": "jYEScQo4AhrL"
   },
   "source": []
  },
  {
   "cell_type": "code",
   "execution_count": 76,
   "metadata": {
    "execution": {
     "iopub.execute_input": "2024-12-01T22:19:17.644027Z",
     "iopub.status.busy": "2024-12-01T22:19:17.643728Z",
     "iopub.status.idle": "2024-12-01T22:19:17.648390Z",
     "shell.execute_reply": "2024-12-01T22:19:17.647514Z",
     "shell.execute_reply.started": "2024-12-01T22:19:17.644002Z"
    },
    "id": "rrsrDcqa625v",
    "outputId": "3cf34278-d563-4265-bd47-cba781b96f72",
    "trusted": true
   },
   "outputs": [
    {
     "name": "stdout",
     "output_type": "stream",
     "text": [
      "Path to dataset files: data\n"
     ]
    }
   ],
   "source": [
    "# path = kagglehub.dataset_download(\"hhalalwi/deepfake-face-mask-dataset-dffmd\")\n",
    "path = \"data\"\n",
    "print(\"Path to dataset files:\", path)"
   ]
  },
  {
   "cell_type": "code",
   "execution_count": 77,
   "metadata": {
    "execution": {
     "iopub.execute_input": "2024-12-01T22:19:17.669311Z",
     "iopub.status.busy": "2024-12-01T22:19:17.669071Z",
     "iopub.status.idle": "2024-12-01T22:19:17.673905Z",
     "shell.execute_reply": "2024-12-01T22:19:17.673053Z",
     "shell.execute_reply.started": "2024-12-01T22:19:17.669287Z"
    },
    "id": "vppTkLk4M5TB",
    "outputId": "9da82a75-78fb-4e3d-a740-57087d93bf23",
    "trusted": true
   },
   "outputs": [
    {
     "name": "stdout",
     "output_type": "stream",
     "text": [
      "GPU\n"
     ]
    }
   ],
   "source": [
    "if torch.cuda.is_available():\n",
    "  device = torch.device(\"cuda:0\")\n",
    "  print(\"GPU\")\n",
    "else:\n",
    "  device = torch.device(\"cpu\")\n",
    "  print(\"CPU\")"
   ]
  },
  {
   "cell_type": "code",
   "execution_count": 78,
   "metadata": {
    "execution": {
     "iopub.execute_input": "2024-12-01T22:19:17.690402Z",
     "iopub.status.busy": "2024-12-01T22:19:17.690157Z",
     "iopub.status.idle": "2024-12-01T22:19:17.711384Z",
     "shell.execute_reply": "2024-12-01T22:19:17.710724Z",
     "shell.execute_reply.started": "2024-12-01T22:19:17.690378Z"
    },
    "id": "2slSA0LH7Obt",
    "outputId": "fc31ca63-f069-4444-8079-79fba7810efe",
    "trusted": true
   },
   "outputs": [
    {
     "data": {
      "text/plain": [
       "1836"
      ]
     },
     "execution_count": 78,
     "metadata": {},
     "output_type": "execute_result"
    }
   ],
   "source": [
    "data = []\n",
    "\n",
    "for folder in os.listdir(path):\n",
    "  if folder == \"Fake\" or folder == \"Real\":\n",
    "    for file in os.listdir(os.path.join(path,folder,folder)):\n",
    "      if folder == \"Fake\":\n",
    "        data.append([os.path.join(path,folder,folder,file),0])\n",
    "      else:\n",
    "        data.append([os.path.join(path,folder,folder,file),1])\n",
    "data = np.array(data)\n",
    "np.random.shuffle(data)\n",
    "len(data)"
   ]
  },
  {
   "cell_type": "code",
   "execution_count": 79,
   "metadata": {
    "execution": {
     "iopub.execute_input": "2024-12-01T22:19:17.712648Z",
     "iopub.status.busy": "2024-12-01T22:19:17.712428Z",
     "iopub.status.idle": "2024-12-01T22:19:17.720468Z",
     "shell.execute_reply": "2024-12-01T22:19:17.719597Z",
     "shell.execute_reply.started": "2024-12-01T22:19:17.712625Z"
    },
    "id": "46XsV3Tc9eXL",
    "trusted": true
   },
   "outputs": [],
   "source": [
    "class VideoDataset(Dataset):\n",
    "    def __init__(self,data,number_frames):\n",
    "        self.data = []\n",
    "        self.labels = []\n",
    "        for i in data:\n",
    "            self.data.append(i[0])\n",
    "            self.labels.append(i[1])\n",
    "        self.number_frames = number_frames\n",
    "    def __len__(self):\n",
    "        return len(self.data)\n",
    "    def __getitem__(self, idx):\n",
    "        frames = self.get_frames(self.data[idx])\n",
    "        return torch.tensor(np.array(frames)),int(self.labels[idx])\n",
    "\n",
    "    def get_frames(self, video_path):\n",
    "        cap = cv2.VideoCapture(video_path)\n",
    "        \n",
    "        total_frame_count = int(cap.get(cv2.CAP_PROP_FRAME_COUNT))\n",
    "        indices = np.linspace(0, total_frame_count - 1, self.number_frames, dtype=int)\n",
    "        frames = []\n",
    "    \n",
    "        for index in indices:\n",
    "            cap.set(cv2.CAP_PROP_POS_FRAMES, index)\n",
    "            ret, frame = cap.read()\n",
    "    \n",
    "            # Skip invalid frames\n",
    "            while not ret and index < total_frame_count - 1:\n",
    "                index += 1\n",
    "                cap.set(cv2.CAP_PROP_POS_FRAMES, index)\n",
    "                ret, frame = cap.read()\n",
    "    \n",
    "            if not ret:\n",
    "                break  # End of video or failed read\n",
    "            \n",
    "            # Resize and convert the frame\n",
    "            frame = cv2.resize(frame, (244, 244))\n",
    "            frame = cv2.cvtColor(frame, cv2.COLOR_BGR2RGB)\n",
    "            frames.append(frame)\n",
    "    \n",
    "        cap.release()\n",
    "    \n",
    "        # Ensure the desired number of frames\n",
    "        if frames:\n",
    "            while len(frames) < self.number_frames:\n",
    "                frames.append(frames[-1].copy())\n",
    "        else:\n",
    "            # Handle edge case if no frames were read\n",
    "            raise ValueError(\"No frames were successfully extracted from the video.\")\n",
    "    \n",
    "        return frames\n"
   ]
  },
  {
   "cell_type": "code",
   "execution_count": 80,
   "metadata": {
    "execution": {
     "iopub.execute_input": "2024-12-01T22:19:17.721876Z",
     "iopub.status.busy": "2024-12-01T22:19:17.721570Z",
     "iopub.status.idle": "2024-12-01T22:19:17.735707Z",
     "shell.execute_reply": "2024-12-01T22:19:17.735029Z",
     "shell.execute_reply.started": "2024-12-01T22:19:17.721851Z"
    },
    "id": "-hUzBKftG1KH",
    "trusted": true
   },
   "outputs": [],
   "source": [
    "def get_data(data,number_frames,number_videos=0):\n",
    "    if number_videos == 0:\n",
    "      vidoes_dataset = VideoDataset(data,number_frames)\n",
    "      return vidoes_dataset\n",
    "    else:\n",
    "      data = data[:number_videos]\n",
    "      vidoes_dataset = VideoDataset(data,number_frames)\n",
    "      data_frames = []\n",
    "      labels = []\n",
    "\n",
    "      for i in tqdm(range(len(vidoes_dataset))):\n",
    "        frames,label = vidoes_dataset[i]\n",
    "        data_frames.append(frames)\n",
    "        labels.append(int(label))\n",
    "\n",
    "      data_frames = np.array(data_frames)\n",
    "      print(data_frames.shape)\n",
    "      return (data_frames,labels)\n"
   ]
  },
  {
   "cell_type": "code",
   "execution_count": 81,
   "metadata": {
    "execution": {
     "iopub.execute_input": "2024-12-01T22:19:17.737673Z",
     "iopub.status.busy": "2024-12-01T22:19:17.737428Z",
     "iopub.status.idle": "2024-12-01T22:19:17.751217Z",
     "shell.execute_reply": "2024-12-01T22:19:17.750489Z",
     "shell.execute_reply.started": "2024-12-01T22:19:17.737649Z"
    },
    "id": "q9efBg_-3N50",
    "outputId": "fa299911-a030-480d-da78-25b3df7ba733",
    "trusted": true
   },
   "outputs": [],
   "source": [
    "dataset = get_data(data,number_frames,number_videos)"
   ]
  },
  {
   "cell_type": "code",
   "execution_count": 82,
   "metadata": {
    "execution": {
     "iopub.execute_input": "2024-12-01T22:19:17.752460Z",
     "iopub.status.busy": "2024-12-01T22:19:17.752225Z",
     "iopub.status.idle": "2024-12-01T22:19:18.485490Z",
     "shell.execute_reply": "2024-12-01T22:19:18.484523Z",
     "shell.execute_reply.started": "2024-12-01T22:19:17.752437Z"
    },
    "id": "y4tq_NjaH46L",
    "outputId": "a326ef5e-0ee8-4922-a188-f778c741dbae",
    "trusted": true
   },
   "outputs": [],
   "source": [
    "# conv = models.alexnet(weights=True)\n",
    "# list(conv.children())"
   ]
  },
  {
   "cell_type": "code",
   "execution_count": 83,
   "metadata": {
    "execution": {
     "iopub.execute_input": "2024-12-01T22:19:18.486926Z",
     "iopub.status.busy": "2024-12-01T22:19:18.486614Z",
     "iopub.status.idle": "2024-12-01T22:19:18.497419Z",
     "shell.execute_reply": "2024-12-01T22:19:18.496417Z",
     "shell.execute_reply.started": "2024-12-01T22:19:18.486895Z"
    },
    "id": "5D7JycEc625y",
    "trusted": true
   },
   "outputs": [],
   "source": [
    "class CNN(nn.Module):\n",
    "    def __init__(self):\n",
    "        super().__init__()\n",
    "\n",
    "        alexnet = models.alexnet(weights=AlexNet_Weights.DEFAULT)\n",
    "\n",
    "        for layer in alexnet.parameters():\n",
    "          layer.requires_grad = False\n",
    "\n",
    "        self.model = nn.Sequential(*list(alexnet.children())[:-2])\n",
    "        self.avgPooling = nn.MaxPool2d(3)\n",
    "        self.lstm = nn.LSTM(1024, 512,2 , batch_first=True)\n",
    "\n",
    "        self.linear1 = nn.Linear(512,120)\n",
    "        self.linear2 = nn.Linear(120,84)\n",
    "        self.linear3 = nn.Linear(84,1)\n",
    "        \n",
    "    def forward(self,x):\n",
    "         batch_size, num_frames, channels, height, width = x.size()\n",
    "         x = x.view(batch_size * num_frames, channels, height, width)\n",
    "         x = self.model(x)\n",
    "         x = self.avgPooling(x)\n",
    "\n",
    "         x = x.reshape(batch_size, -1)\n",
    "         x = x.reshape(batch_size,num_frames,-1)\n",
    "\n",
    "\n",
    "         lstm_out, _= self.lstm(x)\n",
    "\n",
    "\n",
    "         x = lstm_out[:,-1,:]\n",
    "\n",
    "\n",
    "         x = x.reshape(batch_size, -1)\n",
    "\n",
    "         x = F.relu(self.linear1(x))\n",
    "         \n",
    "         x = F.relu(self.linear2(x))\n",
    "\n",
    "         x = F.sigmoid(self.linear3(x))\n",
    "\n",
    "\n",
    "         return x"
   ]
  },
  {
   "cell_type": "code",
   "execution_count": 61,
   "metadata": {
    "execution": {
     "iopub.execute_input": "2024-12-01T22:19:18.498887Z",
     "iopub.status.busy": "2024-12-01T22:19:18.498582Z",
     "iopub.status.idle": "2024-12-01T22:19:18.509073Z",
     "shell.execute_reply": "2024-12-01T22:19:18.508174Z",
     "shell.execute_reply.started": "2024-12-01T22:19:18.498860Z"
    },
    "id": "VnkM9cZc625z",
    "trusted": true
   },
   "outputs": [],
   "source": [
    "def train(data,epoch ,model,optimizer,loss_fun):\n",
    "\n",
    "    total_loss = []\n",
    "    model.train()\n",
    "    for ep in tqdm(range(epoch)):\n",
    "      if number_videos !=0:\n",
    "        optimizer.zero_grad()\n",
    "        x = torch.tensor(data[0]).to(device)\n",
    "\n",
    "        x = x.permute(0,1, 4, 2, 3) # batch_size, num_frames, channels, height, width\n",
    "        x = x.float()\n",
    "\n",
    "        target = torch.tensor(data[1]).to(device)\n",
    "        target = target.float()\n",
    "        target = target.unsqueeze(-1)\n",
    "        outputs = model(x)\n",
    "        loss = loss_fun(outputs,target)\n",
    "        loss.backward()\n",
    "        optimizer.step()\n",
    "\n",
    "      else:\n",
    "        for i, (x, target) in enumerate(data):\n",
    "            optimizer.zero_grad()\n",
    "\n",
    "            target = torch.tensor(target)\n",
    "            target = target.float()\n",
    "            x = torch.tensor(x)\n",
    "\n",
    "            x = x.permute(0,1, 4, 2, 3) # batch_size, num_frames, channels, height, width\n",
    "            x = x.float()\n",
    "\n",
    "            target = target.to(device)\n",
    "            x= x.to(device)\n",
    "\n",
    "            outputs = model(x)\n",
    "\n",
    "            loss = loss_fun(outputs,target)\n",
    "            loss.backward()\n",
    "            optimizer.step()\n",
    "      total_loss.append(float(loss))\n",
    "\n",
    "\n",
    "    return total_loss"
   ]
  },
  {
   "cell_type": "code",
   "execution_count": 62,
   "metadata": {
    "execution": {
     "iopub.execute_input": "2024-12-01T22:19:18.511666Z",
     "iopub.status.busy": "2024-12-01T22:19:18.511386Z",
     "iopub.status.idle": "2024-12-01T22:19:18.530886Z",
     "shell.execute_reply": "2024-12-01T22:19:18.530003Z",
     "shell.execute_reply.started": "2024-12-01T22:19:18.511636Z"
    },
    "id": "XcM6KSsBJ8dD",
    "trusted": true
   },
   "outputs": [],
   "source": [
    "class GreyWolfOA:\n",
    "    def __init__(self, n=5,i=100):\n",
    "        self.population_size = n\n",
    "        self.iterations = i\n",
    "    def fittness(self, population,is_fittness_calculated,previous_fittness_values):\n",
    "        population = np.array(population)\n",
    "        values = []\n",
    "        i=0\n",
    "        print(\"fittness: \")\n",
    "        for index,sample in enumerate(population):\n",
    "          if is_fittness_calculated[index]:\n",
    "            values.append(previous_fittness_values[index])\n",
    "            continue\n",
    "          elif population[index]<0:\n",
    "            values.append(10000000)\n",
    "            continue\n",
    "          else:\n",
    "            print(\"lr: \",population[index])\n",
    "            model = CNN().to(self.device)\n",
    "            optimizer = torch.optim.Adam(model.parameters(),lr= sample)\n",
    "            loss_fun = nn.BCELoss()\n",
    "            history = train(self.data,10,model,optimizer,loss_fun)\n",
    "            # print(np.array(history[\"loss\"][-5:]).mean())\n",
    "            values.append(np.array(history[-5:]).mean())\n",
    "            i+=1\n",
    "            is_fittness_calculated[index] = True\n",
    "        return values , is_fittness_calculated\n",
    "\n",
    "    def calc_singleX(self,a,sample_i, wolf):#wolf = (alpha,beta,gamma)\n",
    "        random1,random2 = np.random.uniform(0.00001,0.001),np.random.uniform(0.00001,0.001)\n",
    "        A = (2*a* random1) - a\n",
    "        B = 2* random2\n",
    "        C = np.abs(B* wolf - sample_i)\n",
    "        x = wolf - A*C\n",
    "        # print(\"random 1 \",random1)\n",
    "        # print(\"random 2 \",random2)\n",
    "        # print(\"a \",a)\n",
    "        # print(\"A \",A)\n",
    "        # print(\"b \",B)\n",
    "        # print(\"c \",C)\n",
    "        # print(\"x \",x)\n",
    "        # print(\"wolf \",wolf)\n",
    "        # print('==========================')\n",
    "\n",
    "        return x\n",
    "\n",
    "    def fit(self,data,device):\n",
    "        self.data = data\n",
    "        self.device = device\n",
    "\n",
    "        population = np.random.uniform(0.00001,0.001,size=self.population_size)\n",
    "        is_fittness_calculated= [False for _ in range(self.population_size)]\n",
    "        history = []\n",
    "        previous_fittness_values = []\n",
    "        for i in range(self.iterations):\n",
    "\n",
    "            fitness_values,is_fittness_calculated = self.fittness(population,is_fittness_calculated,previous_fittness_values)\n",
    "            indecies = np.argsort(fitness_values)\n",
    "\n",
    "            alpha = population[indecies[0]]\n",
    "            beta = population[indecies[1]]\n",
    "            gamma = population[indecies[2]]\n",
    "            a = 2 *(1-(i /self.iterations))**30\n",
    "\n",
    "            for sample in range(self.population_size):\n",
    "                x1 = self.calc_singleX(a,sample,alpha)\n",
    "                x2 = self.calc_singleX(a,sample,beta)\n",
    "                x3 = self.calc_singleX(a,sample,gamma)\n",
    "\n",
    "\n",
    "                new_x = (x1+x2+x3)/3\n",
    "                new_fittness,_= self.fittness([new_x],[False],[0])\n",
    "                if fitness_values[sample] > new_fittness[0]:\n",
    "                    population[sample] = new_x\n",
    "                    fitness_values[sample]= new_fittness[0]\n",
    "                    is_fittness_calculated[sample]=True\n",
    "\n",
    "            previous_fittness_values= deepcopy(fitness_values)\n",
    "\n",
    "            indecies = np.argsort(fitness_values)\n",
    "            history.append([population[indecies[0]],fitness_values[indecies[0]]])\n",
    "            print(\"-----------alpha is: \",population[indecies[0]],\"loss: \",fitness_values[indecies[0]])\n",
    "            print('-----------------------------------------------------------')\n",
    "            print(f'Iteration {i+1}population: {population}')\n",
    "        return population[indecies[0]],history"
   ]
  },
  {
   "cell_type": "code",
   "execution_count": 63,
   "metadata": {
    "execution": {
     "iopub.execute_input": "2024-12-01T22:19:18.532152Z",
     "iopub.status.busy": "2024-12-01T22:19:18.531882Z",
     "iopub.status.idle": "2024-12-01T22:19:18.545661Z",
     "shell.execute_reply": "2024-12-01T22:19:18.544783Z",
     "shell.execute_reply.started": "2024-12-01T22:19:18.532108Z"
    },
    "id": "jnrEGW_B625z",
    "outputId": "0b5e56d6-8d1e-44d8-c0ec-e93df94582dc",
    "trusted": true
   },
   "outputs": [
    {
     "name": "stdout",
     "output_type": "stream",
     "text": [
      "fittness: \n",
      "lr:  0.00019675549230247096\n"
     ]
    },
    {
     "name": "stderr",
     "output_type": "stream",
     "text": [
      "100%|██████████| 10/10 [00:01<00:00,  5.42it/s]\n"
     ]
    },
    {
     "name": "stdout",
     "output_type": "stream",
     "text": [
      "lr:  0.0005097932678502431\n"
     ]
    },
    {
     "name": "stderr",
     "output_type": "stream",
     "text": [
      "100%|██████████| 10/10 [00:01<00:00,  5.59it/s]\n"
     ]
    },
    {
     "name": "stdout",
     "output_type": "stream",
     "text": [
      "lr:  0.0003994738683429175\n"
     ]
    },
    {
     "name": "stderr",
     "output_type": "stream",
     "text": [
      "100%|██████████| 10/10 [00:01<00:00,  5.64it/s]\n"
     ]
    },
    {
     "name": "stdout",
     "output_type": "stream",
     "text": [
      "lr:  0.0001876734678598479\n"
     ]
    },
    {
     "name": "stderr",
     "output_type": "stream",
     "text": [
      "100%|██████████| 10/10 [00:01<00:00,  5.56it/s]\n"
     ]
    },
    {
     "name": "stdout",
     "output_type": "stream",
     "text": [
      "lr:  0.0003855416127086816\n"
     ]
    },
    {
     "name": "stderr",
     "output_type": "stream",
     "text": [
      "100%|██████████| 10/10 [00:01<00:00,  5.53it/s]\n"
     ]
    },
    {
     "name": "stdout",
     "output_type": "stream",
     "text": [
      "fittness: \n",
      "lr:  0.0004329799822718242\n"
     ]
    },
    {
     "name": "stderr",
     "output_type": "stream",
     "text": [
      "100%|██████████| 10/10 [00:01<00:00,  5.67it/s]\n"
     ]
    },
    {
     "name": "stdout",
     "output_type": "stream",
     "text": [
      "fittness: \n",
      "lr:  1.9993920997694943\n"
     ]
    },
    {
     "name": "stderr",
     "output_type": "stream",
     "text": [
      "100%|██████████| 10/10 [00:01<00:00,  5.77it/s]\n"
     ]
    },
    {
     "name": "stdout",
     "output_type": "stream",
     "text": [
      "fittness: \n",
      "lr:  3.9964060626548203\n"
     ]
    },
    {
     "name": "stderr",
     "output_type": "stream",
     "text": [
      "100%|██████████| 10/10 [00:01<00:00,  5.80it/s]\n"
     ]
    },
    {
     "name": "stdout",
     "output_type": "stream",
     "text": [
      "fittness: \n",
      "lr:  5.993078973466378\n"
     ]
    },
    {
     "name": "stderr",
     "output_type": "stream",
     "text": [
      "100%|██████████| 10/10 [00:01<00:00,  5.82it/s]\n"
     ]
    },
    {
     "name": "stdout",
     "output_type": "stream",
     "text": [
      "fittness: \n",
      "lr:  7.99611720698847\n"
     ]
    },
    {
     "name": "stderr",
     "output_type": "stream",
     "text": [
      "100%|██████████| 10/10 [00:01<00:00,  5.81it/s]\n"
     ]
    },
    {
     "name": "stdout",
     "output_type": "stream",
     "text": [
      "-----------alpha is:  0.0005097932678502431 loss:  0.32750638425350187\n",
      "-----------------------------------------------------------\n",
      "Iteration 1population: [0.00043298 0.00050979 0.00039947 0.00018767 0.00038554]\n",
      "fittness: \n",
      "fittness: \n",
      "lr:  0.0004428028364630131\n"
     ]
    },
    {
     "name": "stderr",
     "output_type": "stream",
     "text": [
      "100%|██████████| 10/10 [00:01<00:00,  5.73it/s]\n"
     ]
    },
    {
     "name": "stdout",
     "output_type": "stream",
     "text": [
      "fittness: \n",
      "lr:  0.0851291769403555\n"
     ]
    },
    {
     "name": "stderr",
     "output_type": "stream",
     "text": [
      "100%|██████████| 10/10 [00:01<00:00,  5.69it/s]\n"
     ]
    },
    {
     "name": "stdout",
     "output_type": "stream",
     "text": [
      "fittness: \n",
      "lr:  0.1698206341661451\n"
     ]
    },
    {
     "name": "stderr",
     "output_type": "stream",
     "text": [
      "100%|██████████| 10/10 [00:01<00:00,  5.66it/s]\n"
     ]
    },
    {
     "name": "stdout",
     "output_type": "stream",
     "text": [
      "fittness: \n",
      "lr:  0.2545746528946154\n"
     ]
    },
    {
     "name": "stderr",
     "output_type": "stream",
     "text": [
      "100%|██████████| 10/10 [00:01<00:00,  5.74it/s]\n"
     ]
    },
    {
     "name": "stdout",
     "output_type": "stream",
     "text": [
      "fittness: \n",
      "lr:  0.33919425727579205\n"
     ]
    },
    {
     "name": "stderr",
     "output_type": "stream",
     "text": [
      "100%|██████████| 10/10 [00:01<00:00,  5.69it/s]\n"
     ]
    },
    {
     "name": "stdout",
     "output_type": "stream",
     "text": [
      "-----------alpha is:  0.0005097932678502431 loss:  0.32750638425350187\n",
      "-----------------------------------------------------------\n",
      "Iteration 2population: [0.00043298 0.00050979 0.00039947 0.00018767 0.00038554]\n",
      "fittness: \n",
      "fittness: \n",
      "lr:  0.0004427722242215776\n"
     ]
    },
    {
     "name": "stderr",
     "output_type": "stream",
     "text": [
      "100%|██████████| 10/10 [00:01<00:00,  5.54it/s]\n"
     ]
    },
    {
     "name": "stdout",
     "output_type": "stream",
     "text": [
      "fittness: \n",
      "lr:  0.0029173422907338726\n"
     ]
    },
    {
     "name": "stderr",
     "output_type": "stream",
     "text": [
      "100%|██████████| 10/10 [00:01<00:00,  5.61it/s]\n"
     ]
    },
    {
     "name": "stdout",
     "output_type": "stream",
     "text": [
      "fittness: \n",
      "lr:  0.005392061521072834\n"
     ]
    },
    {
     "name": "stderr",
     "output_type": "stream",
     "text": [
      "100%|██████████| 10/10 [00:01<00:00,  5.56it/s]\n"
     ]
    },
    {
     "name": "stdout",
     "output_type": "stream",
     "text": [
      "fittness: \n",
      "lr:  0.00786421984489639\n"
     ]
    },
    {
     "name": "stderr",
     "output_type": "stream",
     "text": [
      "100%|██████████| 10/10 [00:01<00:00,  5.72it/s]\n"
     ]
    },
    {
     "name": "stdout",
     "output_type": "stream",
     "text": [
      "fittness: \n",
      "lr:  0.01033937934522099\n"
     ]
    },
    {
     "name": "stderr",
     "output_type": "stream",
     "text": [
      "100%|██████████| 10/10 [00:01<00:00,  5.71it/s]\n"
     ]
    },
    {
     "name": "stdout",
     "output_type": "stream",
     "text": [
      "-----------alpha is:  0.0005097932678502431 loss:  0.32750638425350187\n",
      "-----------------------------------------------------------\n",
      "Iteration 3population: [0.00044277 0.00050979 0.00039947 0.00018767 0.00038554]\n",
      "fittness: \n",
      "fittness: \n",
      "lr:  0.0004460357232590699\n"
     ]
    },
    {
     "name": "stderr",
     "output_type": "stream",
     "text": [
      "100%|██████████| 10/10 [00:01<00:00,  5.73it/s]\n"
     ]
    },
    {
     "name": "stdout",
     "output_type": "stream",
     "text": [
      "fittness: \n",
      "lr:  0.0004910477851641455\n"
     ]
    },
    {
     "name": "stderr",
     "output_type": "stream",
     "text": [
      "100%|██████████| 10/10 [00:01<00:00,  5.69it/s]\n"
     ]
    },
    {
     "name": "stdout",
     "output_type": "stream",
     "text": [
      "fittness: \n",
      "lr:  0.000536112616372235\n"
     ]
    },
    {
     "name": "stderr",
     "output_type": "stream",
     "text": [
      "100%|██████████| 10/10 [00:01<00:00,  5.69it/s]\n"
     ]
    },
    {
     "name": "stdout",
     "output_type": "stream",
     "text": [
      "fittness: \n",
      "lr:  0.0005811260946522138\n"
     ]
    },
    {
     "name": "stderr",
     "output_type": "stream",
     "text": [
      "100%|██████████| 10/10 [00:01<00:00,  5.76it/s]\n"
     ]
    },
    {
     "name": "stdout",
     "output_type": "stream",
     "text": [
      "fittness: \n",
      "lr:  0.0006261742241372301\n"
     ]
    },
    {
     "name": "stderr",
     "output_type": "stream",
     "text": [
      "100%|██████████| 10/10 [00:01<00:00,  5.75it/s]\n"
     ]
    },
    {
     "name": "stdout",
     "output_type": "stream",
     "text": [
      "-----------alpha is:  0.0006261742241372301 loss:  0.32596196234226227\n",
      "-----------------------------------------------------------\n",
      "Iteration 4population: [0.00044277 0.00050979 0.00053611 0.00058113 0.00062617]\n",
      "fittness: \n",
      "fittness: \n",
      "lr:  0.0005723645292008756\n"
     ]
    },
    {
     "name": "stderr",
     "output_type": "stream",
     "text": [
      "100%|██████████| 10/10 [00:01<00:00,  5.75it/s]\n"
     ]
    },
    {
     "name": "stdout",
     "output_type": "stream",
     "text": [
      "fittness: \n",
      "lr:  0.0005728062262534004\n"
     ]
    },
    {
     "name": "stderr",
     "output_type": "stream",
     "text": [
      "100%|██████████| 10/10 [00:01<00:00,  5.68it/s]\n"
     ]
    },
    {
     "name": "stdout",
     "output_type": "stream",
     "text": [
      "fittness: \n",
      "lr:  0.0005732475762075475\n"
     ]
    },
    {
     "name": "stderr",
     "output_type": "stream",
     "text": [
      "100%|██████████| 10/10 [00:01<00:00,  5.75it/s]\n"
     ]
    },
    {
     "name": "stdout",
     "output_type": "stream",
     "text": [
      "fittness: \n",
      "lr:  0.0005736898425073957\n"
     ]
    },
    {
     "name": "stderr",
     "output_type": "stream",
     "text": [
      "100%|██████████| 10/10 [00:01<00:00,  5.73it/s]\n"
     ]
    },
    {
     "name": "stdout",
     "output_type": "stream",
     "text": [
      "fittness: \n",
      "lr:  0.0005741322491552694\n"
     ]
    },
    {
     "name": "stderr",
     "output_type": "stream",
     "text": [
      "100%|██████████| 10/10 [00:01<00:00,  5.75it/s]\n"
     ]
    },
    {
     "name": "stdout",
     "output_type": "stream",
     "text": [
      "-----------alpha is:  0.0005728062262534004 loss:  0.3209913969039917\n",
      "-----------------------------------------------------------\n",
      "Iteration 5population: [0.00057236 0.00057281 0.00053611 0.00058113 0.00062617]\n",
      "fittness: \n",
      "fittness: \n",
      "lr:  0.0005904483265310206\n"
     ]
    },
    {
     "name": "stderr",
     "output_type": "stream",
     "text": [
      "100%|██████████| 10/10 [00:01<00:00,  5.83it/s]\n"
     ]
    },
    {
     "name": "stdout",
     "output_type": "stream",
     "text": [
      "fittness: \n",
      "lr:  0.0005904501875688613\n"
     ]
    },
    {
     "name": "stderr",
     "output_type": "stream",
     "text": [
      "100%|██████████| 10/10 [00:01<00:00,  5.55it/s]\n"
     ]
    },
    {
     "name": "stdout",
     "output_type": "stream",
     "text": [
      "fittness: \n",
      "lr:  0.0005904520484364587\n"
     ]
    },
    {
     "name": "stderr",
     "output_type": "stream",
     "text": [
      "100%|██████████| 10/10 [00:01<00:00,  5.59it/s]\n"
     ]
    },
    {
     "name": "stdout",
     "output_type": "stream",
     "text": [
      "fittness: \n",
      "lr:  0.0005904539049183194\n"
     ]
    },
    {
     "name": "stderr",
     "output_type": "stream",
     "text": [
      "100%|██████████| 10/10 [00:01<00:00,  5.69it/s]\n"
     ]
    },
    {
     "name": "stdout",
     "output_type": "stream",
     "text": [
      "fittness: \n",
      "lr:  0.0005904557688809701\n"
     ]
    },
    {
     "name": "stderr",
     "output_type": "stream",
     "text": [
      "100%|██████████| 10/10 [00:01<00:00,  5.57it/s]\n"
     ]
    },
    {
     "name": "stdout",
     "output_type": "stream",
     "text": [
      "-----------alpha is:  0.0005904539049183194 loss:  0.29452195316553115\n",
      "-----------------------------------------------------------\n",
      "Iteration 6population: [0.00057236 0.00057281 0.00059045 0.00059045 0.00059046]\n",
      "fittness: \n",
      "fittness: \n",
      "lr:  0.0005845719666842312\n"
     ]
    },
    {
     "name": "stderr",
     "output_type": "stream",
     "text": [
      "100%|██████████| 10/10 [00:01<00:00,  5.54it/s]\n"
     ]
    },
    {
     "name": "stdout",
     "output_type": "stream",
     "text": [
      "fittness: \n",
      "lr:  0.0005845719689873309\n"
     ]
    },
    {
     "name": "stderr",
     "output_type": "stream",
     "text": [
      "100%|██████████| 10/10 [00:01<00:00,  5.55it/s]\n"
     ]
    },
    {
     "name": "stdout",
     "output_type": "stream",
     "text": [
      "fittness: \n",
      "lr:  0.0005845719712915376\n"
     ]
    },
    {
     "name": "stderr",
     "output_type": "stream",
     "text": [
      "100%|██████████| 10/10 [00:01<00:00,  5.72it/s]\n"
     ]
    },
    {
     "name": "stdout",
     "output_type": "stream",
     "text": [
      "fittness: \n",
      "lr:  0.0005845719735980427\n"
     ]
    },
    {
     "name": "stderr",
     "output_type": "stream",
     "text": [
      "100%|██████████| 10/10 [00:01<00:00,  5.70it/s]\n"
     ]
    },
    {
     "name": "stdout",
     "output_type": "stream",
     "text": [
      "fittness: \n",
      "lr:  0.0005845719758959688\n"
     ]
    },
    {
     "name": "stderr",
     "output_type": "stream",
     "text": [
      "100%|██████████| 10/10 [00:01<00:00,  5.77it/s]\n"
     ]
    },
    {
     "name": "stdout",
     "output_type": "stream",
     "text": [
      "-----------alpha is:  0.0005904539049183194 loss:  0.29452195316553115\n",
      "-----------------------------------------------------------\n",
      "Iteration 7population: [0.00057236 0.00057281 0.00058457 0.00059045 0.00059046]\n",
      "fittness: \n",
      "fittness: \n",
      "lr:  0.0005884938816969424\n"
     ]
    },
    {
     "name": "stderr",
     "output_type": "stream",
     "text": [
      "100%|██████████| 10/10 [00:01<00:00,  5.76it/s]\n"
     ]
    },
    {
     "name": "stdout",
     "output_type": "stream",
     "text": [
      "fittness: \n",
      "lr:  0.0005884938816973537\n"
     ]
    },
    {
     "name": "stderr",
     "output_type": "stream",
     "text": [
      "100%|██████████| 10/10 [00:01<00:00,  5.72it/s]\n"
     ]
    },
    {
     "name": "stdout",
     "output_type": "stream",
     "text": [
      "fittness: \n",
      "lr:  0.0005884938816977654\n"
     ]
    },
    {
     "name": "stderr",
     "output_type": "stream",
     "text": [
      "100%|██████████| 10/10 [00:01<00:00,  5.77it/s]\n"
     ]
    },
    {
     "name": "stdout",
     "output_type": "stream",
     "text": [
      "fittness: \n",
      "lr:  0.0005884938816981766\n"
     ]
    },
    {
     "name": "stderr",
     "output_type": "stream",
     "text": [
      "100%|██████████| 10/10 [00:01<00:00,  5.60it/s]\n"
     ]
    },
    {
     "name": "stdout",
     "output_type": "stream",
     "text": [
      "fittness: \n",
      "lr:  0.0005884938816985876\n"
     ]
    },
    {
     "name": "stderr",
     "output_type": "stream",
     "text": [
      "100%|██████████| 10/10 [00:01<00:00,  5.80it/s]\n"
     ]
    },
    {
     "name": "stdout",
     "output_type": "stream",
     "text": [
      "-----------alpha is:  0.0005904539049183194 loss:  0.29452195316553115\n",
      "-----------------------------------------------------------\n",
      "Iteration 8population: [0.00057236 0.00057281 0.00058457 0.00059045 0.00059046]\n",
      "fittness: \n",
      "fittness: \n",
      "lr:  0.0005884938816969424\n"
     ]
    },
    {
     "name": "stderr",
     "output_type": "stream",
     "text": [
      "100%|██████████| 10/10 [00:01<00:00,  5.67it/s]\n"
     ]
    },
    {
     "name": "stdout",
     "output_type": "stream",
     "text": [
      "fittness: \n",
      "lr:  0.0005884938816969424\n"
     ]
    },
    {
     "name": "stderr",
     "output_type": "stream",
     "text": [
      "100%|██████████| 10/10 [00:01<00:00,  5.73it/s]\n"
     ]
    },
    {
     "name": "stdout",
     "output_type": "stream",
     "text": [
      "fittness: \n",
      "lr:  0.0005884938816969424\n"
     ]
    },
    {
     "name": "stderr",
     "output_type": "stream",
     "text": [
      "100%|██████████| 10/10 [00:01<00:00,  5.59it/s]\n"
     ]
    },
    {
     "name": "stdout",
     "output_type": "stream",
     "text": [
      "fittness: \n",
      "lr:  0.0005884938816969424\n"
     ]
    },
    {
     "name": "stderr",
     "output_type": "stream",
     "text": [
      "100%|██████████| 10/10 [00:01<00:00,  5.54it/s]\n"
     ]
    },
    {
     "name": "stdout",
     "output_type": "stream",
     "text": [
      "fittness: \n",
      "lr:  0.0005884938816969424\n"
     ]
    },
    {
     "name": "stderr",
     "output_type": "stream",
     "text": [
      "100%|██████████| 10/10 [00:01<00:00,  5.56it/s]\n"
     ]
    },
    {
     "name": "stdout",
     "output_type": "stream",
     "text": [
      "-----------alpha is:  0.0005904539049183194 loss:  0.29452195316553115\n",
      "-----------------------------------------------------------\n",
      "Iteration 9population: [0.00057236 0.00057281 0.00058457 0.00059045 0.00059046]\n",
      "fittness: \n",
      "fittness: \n",
      "lr:  0.0005884938816969424\n"
     ]
    },
    {
     "name": "stderr",
     "output_type": "stream",
     "text": [
      "100%|██████████| 10/10 [00:01<00:00,  5.64it/s]\n"
     ]
    },
    {
     "name": "stdout",
     "output_type": "stream",
     "text": [
      "fittness: \n",
      "lr:  0.0005884938816969424\n"
     ]
    },
    {
     "name": "stderr",
     "output_type": "stream",
     "text": [
      "100%|██████████| 10/10 [00:01<00:00,  5.64it/s]\n"
     ]
    },
    {
     "name": "stdout",
     "output_type": "stream",
     "text": [
      "fittness: \n",
      "lr:  0.0005884938816969424\n"
     ]
    },
    {
     "name": "stderr",
     "output_type": "stream",
     "text": [
      "100%|██████████| 10/10 [00:01<00:00,  5.74it/s]\n"
     ]
    },
    {
     "name": "stdout",
     "output_type": "stream",
     "text": [
      "fittness: \n",
      "lr:  0.0005884938816969424\n"
     ]
    },
    {
     "name": "stderr",
     "output_type": "stream",
     "text": [
      "100%|██████████| 10/10 [00:01<00:00,  5.66it/s]\n"
     ]
    },
    {
     "name": "stdout",
     "output_type": "stream",
     "text": [
      "fittness: \n",
      "lr:  0.0005884938816969424\n"
     ]
    },
    {
     "name": "stderr",
     "output_type": "stream",
     "text": [
      "100%|██████████| 10/10 [00:01<00:00,  5.48it/s]"
     ]
    },
    {
     "name": "stdout",
     "output_type": "stream",
     "text": [
      "-----------alpha is:  0.0005904539049183194 loss:  0.29452195316553115\n",
      "-----------------------------------------------------------\n",
      "Iteration 10population: [0.00058849 0.00057281 0.00058849 0.00059045 0.00059046]\n"
     ]
    },
    {
     "name": "stderr",
     "output_type": "stream",
     "text": [
      "\n"
     ]
    }
   ],
   "source": [
    "greywolf = GreyWolfOA(5,10)\n",
    "alpha , history = greywolf.fit(dataset,device) "
   ]
  },
  {
   "cell_type": "code",
   "execution_count": 93,
   "metadata": {
    "execution": {
     "iopub.execute_input": "2024-12-01T22:19:18.547160Z",
     "iopub.status.busy": "2024-12-01T22:19:18.546861Z",
     "iopub.status.idle": "2024-12-01T22:19:18.574122Z",
     "shell.execute_reply": "2024-12-01T22:19:18.573313Z",
     "shell.execute_reply.started": "2024-12-01T22:19:18.547134Z"
    },
    "id": "mEhw26aMzra5",
    "trusted": true
   },
   "outputs": [],
   "source": [
    "def evaluate_model(model, loss_fun,data_loader):\n",
    "  model.eval()\n",
    "  data_loss = 0.0\n",
    "  correct = 0\n",
    "  total = 0\n",
    "  with torch.no_grad():\n",
    "    if number_videos !=0:\n",
    "        train,labels = data_loader\n",
    "        x, y = torch.tensor(train).to(device), torch.tensor(labels).to(device)\n",
    "        x = x.permute(0,1, 4, 2, 3) # batch_size, num_frames, channels, height, width\n",
    "        x = x.float()\n",
    "\n",
    "        outputs = model(x)\n",
    "        y = y.float()\n",
    "        y = y.unsqueeze(-1)\n",
    "\n",
    "        loss = loss_fun(outputs, y)\n",
    "        data_loss += loss.item()\n",
    "        for t in range(len(outputs)):\n",
    "          if outputs[t] >= 0.5 and y[t]==1:\n",
    "            correct+= 1\n",
    "            total+=1\n",
    "          elif outputs[t] < 0.5 and y[t]==0:\n",
    "            correct += 1\n",
    "            total+=1\n",
    "          else:\n",
    "            total+=1\n",
    "    else:\n",
    "      for i,(x, y) in enumerate(data_loader):\n",
    "          x, y = x.clone().detach().to(device), y.clone().detach().to(device)\n",
    "          x = x.permute(0,1, 4, 2, 3) # batch_size, num_frames, channels, height, width\n",
    "          x = x.float()\n",
    "          outputs = model(x)\n",
    "          y = y.float()\n",
    "          y = y.unsqueeze(-1)\n",
    "\n",
    "          loss = loss_fun(outputs, y)\n",
    "          data_loss += loss.item()\n",
    "          for t in range(len(outputs)):\n",
    "            if outputs[t] >= 0.5 and y[t]==1:\n",
    "              correct+= 1\n",
    "              total+=1\n",
    "            elif outputs[t] < 0.5 and y[t]==0:\n",
    "              correct += 1\n",
    "              total+=1\n",
    "            else:\n",
    "              total+=1\n",
    "          predicted = np.array(outputs.cpu().numpy()>=0.5).astype(int)\n",
    "          correct += (predicted == y.cpu().numpy()).sum().item()\n",
    "          total += y.size(0)\n",
    "\n",
    "\n",
    "  data_loss /= len(data_loader)\n",
    "  val_accuracy = correct / total\n",
    "  return data_loss, val_accuracy\n",
    "\n",
    "def train_cross_validation(data,epoch):\n",
    "\n",
    "    k_folds = 3\n",
    "    kf = KFold(n_splits=k_folds, shuffle=True, random_state=42)\n",
    "\n",
    "    fold_results=[]\n",
    "    models_details=[]\n",
    "\n",
    "    if number_videos !=0:\n",
    "      splited_data = data[0]\n",
    "    else:\n",
    "      splited_data = data\n",
    "\n",
    "    for fold_number,(train_idx,val_idx) in enumerate(kf.split(splited_data)):\n",
    "\n",
    "      if number_videos != 0:\n",
    "        train_videos = np.array(data[0])[train_idx]\n",
    "        train_labels = np.array(data[1])[train_idx]\n",
    "\n",
    "        val_videos = np.array(data[0])[val_idx]\n",
    "        val_labels = np.array(data[1])[val_idx]\n",
    "\n",
    "      else:\n",
    "        train_subset = Subset(splited_data, train_idx)\n",
    "        val_subset = Subset(splited_data, val_idx)\n",
    "\n",
    "        train_loader = DataLoader(train_subset, batch_size=batch_size, shuffle=True)\n",
    "        val_loader = DataLoader(val_subset, batch_size=batch_size, shuffle=True)\n",
    "\n",
    "      model = CNN().to(device)\n",
    "      optimizer = torch.optim.Adam(model.parameters(),lr=0.0005904539049183194    )\n",
    "      loss_fun = nn.BCELoss()\n",
    "\n",
    "      print(f\"fold {fold_number+1}/3: ----------------------------- \")\n",
    "      total_loss = []\n",
    "      model.train()\n",
    "      # for ep in range(epoch):\n",
    "      if number_videos !=0:\n",
    "        for ep in range(epoch):\n",
    "          optimizer.zero_grad()\n",
    "          x = torch.tensor(train_videos).to(device)\n",
    "\n",
    "          x = x.permute(0,1, 4, 2, 3) # batch_size, num_frames, channels, height, width\n",
    "          x = x.float()\n",
    "\n",
    "          target = torch.tensor(train_labels).to(device)\n",
    "          target = target.float()\n",
    "          target = target.unsqueeze(-1)\n",
    "          outputs = model(x)\n",
    "          loss = loss_fun(outputs,target)\n",
    "          loss.backward()\n",
    "          optimizer.step()\n",
    "          print(f\"\\rEpoch {ep+1}, loss: {loss.item():.8f}\",end=\"\")\n",
    "          total_loss.append(float(loss))\n",
    "          \n",
    "      else:\n",
    "          for i, (x, target) in enumerate(train_loader):\n",
    "          # target = target.clone().detach().requires_grad_(True)\n",
    "              target = target.clone().detach()\n",
    "              target = target.float()\n",
    "    \n",
    "              x = x.permute(0,1, 4, 2, 3) # batch_size, num_frames, channels, height, width\n",
    "              x = x.float()    \n",
    "              target = target.to(device).unsqueeze(-1)\n",
    "              x= x.to(device)\n",
    "              for ep in range(epoch):\n",
    "                  optimizer.zero_grad()\n",
    "    \n",
    "    \n",
    "                  outputs = model(x)\n",
    "    \n",
    "                  loss = loss_fun(outputs,target)\n",
    "                  loss.backward()\n",
    "                  optimizer.step()\n",
    "                  print(f\"\\rEpoch {ep+1}, loss: {loss.item():.8f}, [{i}/{len(train_loader)}]\",end=\"\")\n",
    "                  total_loss.append(float(loss))\n",
    "\n",
    "\n",
    "      if number_videos != 0:\n",
    "        loss,accuracy = evaluate_model(model,loss_fun,(val_videos,val_labels))\n",
    "        y_true = val_labels\n",
    "        y_predict = predict(model,val_videos)\n",
    "      else:\n",
    "        # loss,accuracy = evaluate_model(model,loss_fun,val_loader)\n",
    "        y_true,y_predict = predict(model,val_loader)\n",
    "      models_details.append(\n",
    "      {\n",
    "      \"loss\":total_loss,\n",
    "      # \"accuracy\":accuracy,\n",
    "      #  \"precision\":precision_score(y_true,y_predict),\n",
    "      # \"recall\":recall_score(y_true,y_predict),\n",
    "      # \"f1\":f1_score(y_true,y_predict),\n",
    "      \"classification\": classification_report(y_true,y_predict,zero_division=0)\n",
    "      }\n",
    "      )\n",
    "      print(classification_report(y_true,y_predict,zero_division=0))\n",
    "      print()\n",
    "      print(f\"Fold {fold_number + 1}, loss: {float(loss)}\")\n",
    "      print(\"-----------------------------------------------------------------------------------------------------\")\n",
    "      # fold_results.append((val_loss, accuracy))\n",
    "      # if fold_number==0:\n",
    "      #   break\n",
    "\n",
    "    return models_details\n",
    "\n",
    "def predict(model,data):\n",
    "    \n",
    "     model.eval()\n",
    "     with torch.no_grad():\n",
    "        if number_videos !=0:\n",
    "          x = torch.tensor(data).to(device)\n",
    "\n",
    "          x = x.permute(0,1, 4, 2, 3) # batch_size, num_frames, channels, height, width\n",
    "          x = x.float()\n",
    "\n",
    "          outputs = model(x)\n",
    "          outputs = np.array(outputs.cpu().numpy()>=0.5).astype(int)\n",
    "          return outputs.squeeze()\n",
    "        else:\n",
    "          actual = []\n",
    "          predicteds=[]\n",
    "          for i,(x, y) in enumerate(data):\n",
    "    \n",
    "            x, y = x.clone().detach().to(device), y.clone().detach().to(device)\n",
    "            y = y.unsqueeze(-1)\n",
    "            x = x.permute(0,1, 4, 2, 3) # batch_size, num_frames, channels, height, width\n",
    "            x = x.float()\n",
    "            \n",
    "            outputs = model(x)\n",
    "            predicted = np.array(outputs.cpu().numpy()>=0.5).astype(int)\n",
    "            actual.extend(list(y.cpu()))        \n",
    "            predicteds.extend(list(predicted))        \n",
    "        return np.array(actual).reshape(-1),np.array(predicteds).reshape(-1)\n"
   ]
  },
  {
   "cell_type": "code",
   "execution_count": 94,
   "metadata": {
    "execution": {
     "iopub.execute_input": "2024-12-01T22:19:18.575266Z",
     "iopub.status.busy": "2024-12-01T22:19:18.574999Z",
     "iopub.status.idle": "2024-12-02T00:09:16.542779Z",
     "shell.execute_reply": "2024-12-02T00:09:16.541804Z",
     "shell.execute_reply.started": "2024-12-01T22:19:18.575238Z"
    },
    "id": "XJpfWYq50oVl",
    "outputId": "99f93b1d-8914-4eea-854f-34c80933ac2c",
    "trusted": true
   },
   "outputs": [
    {
     "name": "stdout",
     "output_type": "stream",
     "text": [
      "fold 1/3: ----------------------------- \n",
      "Epoch 10, loss: 0.00069956, [6/7]              precision    recall  f1-score   support\n",
      "\n",
      "           0       0.93      0.99      0.96       334\n",
      "           1       0.98      0.91      0.94       278\n",
      "\n",
      "    accuracy                           0.95       612\n",
      "   macro avg       0.96      0.95      0.95       612\n",
      "weighted avg       0.95      0.95      0.95       612\n",
      "\n",
      "\n",
      "Fold 1, loss: 0.000699560740031302\n",
      "-----------------------------------------------------------------------------------------------------\n",
      "fold 2/3: ----------------------------- \n",
      "Epoch 10, loss: 0.00335875, [6/7]              precision    recall  f1-score   support\n",
      "\n",
      "           0       0.98      0.94      0.96       345\n",
      "           1       0.93      0.98      0.95       267\n",
      "\n",
      "    accuracy                           0.96       612\n",
      "   macro avg       0.96      0.96      0.96       612\n",
      "weighted avg       0.96      0.96      0.96       612\n",
      "\n",
      "\n",
      "Fold 2, loss: 0.0033587540965527296\n",
      "-----------------------------------------------------------------------------------------------------\n",
      "fold 3/3: ----------------------------- \n",
      "Epoch 10, loss: 0.00439185, [6/7]              precision    recall  f1-score   support\n",
      "\n",
      "           0       0.96      0.93      0.94       321\n",
      "           1       0.93      0.95      0.94       291\n",
      "\n",
      "    accuracy                           0.94       612\n",
      "   macro avg       0.94      0.94      0.94       612\n",
      "weighted avg       0.94      0.94      0.94       612\n",
      "\n",
      "\n",
      "Fold 3, loss: 0.004391849972307682\n",
      "-----------------------------------------------------------------------------------------------------\n"
     ]
    }
   ],
   "source": [
    "history = train_cross_validation(dataset,10)"
   ]
  },
  {
   "cell_type": "code",
   "execution_count": 97,
   "metadata": {
    "execution": {
     "iopub.execute_input": "2024-12-02T00:09:16.544485Z",
     "iopub.status.busy": "2024-12-02T00:09:16.544094Z",
     "iopub.status.idle": "2024-12-02T00:09:16.549946Z",
     "shell.execute_reply": "2024-12-02T00:09:16.549141Z",
     "shell.execute_reply.started": "2024-12-02T00:09:16.544445Z"
    },
    "id": "rYJ_xSukzMTh",
    "outputId": "c4a2bfc1-ae46-4d48-b3b3-6eee6ee019d4",
    "trusted": true
   },
   "outputs": [
    {
     "name": "stdout",
     "output_type": "stream",
     "text": [
      "model number 0 ===================================\n",
      "classification:                precision    recall  f1-score   support\n",
      "\n",
      "           0       0.93      0.99      0.96       334\n",
      "           1       0.98      0.91      0.94       278\n",
      "\n",
      "    accuracy                           0.95       612\n",
      "   macro avg       0.96      0.95      0.95       612\n",
      "weighted avg       0.95      0.95      0.95       612\n",
      "\n",
      "===================================================\n",
      "model number 1 ===================================\n",
      "classification:                precision    recall  f1-score   support\n",
      "\n",
      "           0       0.98      0.94      0.96       345\n",
      "           1       0.93      0.98      0.95       267\n",
      "\n",
      "    accuracy                           0.96       612\n",
      "   macro avg       0.96      0.96      0.96       612\n",
      "weighted avg       0.96      0.96      0.96       612\n",
      "\n",
      "===================================================\n",
      "model number 2 ===================================\n",
      "classification:                precision    recall  f1-score   support\n",
      "\n",
      "           0       0.96      0.93      0.94       321\n",
      "           1       0.93      0.95      0.94       291\n",
      "\n",
      "    accuracy                           0.94       612\n",
      "   macro avg       0.94      0.94      0.94       612\n",
      "weighted avg       0.94      0.94      0.94       612\n",
      "\n",
      "===================================================\n"
     ]
    }
   ],
   "source": [
    "for i in range(3):\n",
    "  print(f\"model number {i} ===================================\")\n",
    "  # print(\"recall: \",history[i][\"recall\"])\n",
    "  # print(\"precision: \",history[i][\"precision\"])\n",
    "  # print(\"f1: \",history[i][\"f1\"])\n",
    "  # print(\"accuracy: \",history[i][\"accuracy\"])\n",
    "  print(\"classification: \",history[i][\"classification\"])\n",
    "  print(\"===================================================\")"
   ]
  },
  {
   "cell_type": "markdown",
   "metadata": {},
   "source": []
  },
  {
   "cell_type": "code",
   "execution_count": 96,
   "metadata": {
    "execution": {
     "iopub.execute_input": "2024-12-02T00:09:16.551303Z",
     "iopub.status.busy": "2024-12-02T00:09:16.551022Z",
     "iopub.status.idle": "2024-12-02T00:09:16.780785Z",
     "shell.execute_reply": "2024-12-02T00:09:16.780016Z",
     "shell.execute_reply.started": "2024-12-02T00:09:16.551274Z"
    },
    "id": "fMGJOgcFpL7D",
    "outputId": "ff70b6b4-6b8e-4dbf-a0ae-cc0a8ed8f539",
    "trusted": true
   },
   "outputs": [
    {
     "data": {
      "image/png": "[encoded data removed]",
      "text/plain": [
       "<Figure size 640x480 with 1 Axes>"
      ]
     },
     "metadata": {},
     "output_type": "display_data"
    }
   ],
   "source": [
    "plt.plot(history[0][\"loss\"])\n",
    "plt.plot(history[1][\"loss\"])\n",
    "plt.plot(history[2][\"loss\"])\n",
    "plt.legend([\"model 1\",\"model 2\",\"model 3\"])\n",
    "plt.show()"
   ]
  },
  {
   "cell_type": "code",
   "execution_count": null,
   "metadata": {
    "id": "mAvTvMEJrzjH",
    "trusted": true
   },
   "outputs": [],
   "source": []
  },
  {
   "cell_type": "code",
   "execution_count": null,
   "metadata": {
    "trusted": true
   },
   "outputs": [],
   "source": []
  }
 ],
 "metadata": {
  "accelerator": "GPU",
  "colab": {
   "gpuType": "T4",
   "provenance": []
  },
  "kaggle": {
   "accelerator": "nvidiaTeslaT4",
   "dataSources": [
    {
     "datasetId": 1909705,
     "sourceId": 3134515,
     "sourceType": "datasetVersion"
    },
    {
     "datasetId": 2666698,
     "sourceId": 4570814,
     "sourceType": "datasetVersion"
    }
   ],
   "dockerImageVersionId": 30787,
   "isGpuEnabled": true,
   "isInternetEnabled": true,
   "language": "python",
   "sourceType": "notebook"
  },
  "kernelspec": {
   "display_name": "base",
   "language": "python",
   "name": "python3"
  },
  "language_info": {
   "codemirror_mode": {
    "name": "ipython",
    "version": 3
   },
   "file_extension": ".py",
   "mimetype": "text/x-python",
   "name": "python",
   "nbconvert_exporter": "python",
   "pygments_lexer": "ipython3",
   "version": "3.10.15"
  }
 },
 "nbformat": 4,
 "nbformat_minor": 4
}
